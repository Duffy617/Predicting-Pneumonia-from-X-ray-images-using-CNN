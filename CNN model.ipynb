{
 "cells": [
  {
   "cell_type": "markdown",
   "metadata": {},
   "source": [
    "# CNN model"
   ]
  },
  {
   "cell_type": "markdown",
   "metadata": {},
   "source": [
    "## 1.Importing the Libraries"
   ]
  },
  {
   "cell_type": "code",
   "execution_count": 1,
   "metadata": {},
   "outputs": [],
   "source": [
    "import os\n",
    "import pandas as pd\n",
    "import numpy as np\n",
    "import matplotlib.pyplot as plt\n",
    "from matplotlib.image import imread\n",
    "from tensorflow.keras.preprocessing.image import ImageDataGenerator\n",
    "from tensorflow.keras.models import Sequential\n",
    "from tensorflow.keras.layers import Activation, Flatten, Dense, Conv2D, MaxPooling2D, BatchNormalization\n",
    "from sklearn.metrics import classification_report,confusion_matrix\n",
    "from tensorflow.keras.preprocessing import image"
   ]
  },
  {
   "cell_type": "markdown",
   "metadata": {},
   "source": [
    "### The path of  the data"
   ]
  },
  {
   "cell_type": "code",
   "execution_count": 2,
   "metadata": {},
   "outputs": [],
   "source": [
    "# my_data_dir = '/Users/kai-derwang/Desktop/X-ray/chest_xray'\n",
    "my_data_dir = '/Users/b5061/Desktop/Sinica/chest_xray/'"
   ]
  },
  {
   "cell_type": "code",
   "execution_count": 3,
   "metadata": {},
   "outputs": [
    {
     "data": {
      "text/plain": [
       "['test', 'train', 'val']"
      ]
     },
     "execution_count": 3,
     "metadata": {},
     "output_type": "execute_result"
    }
   ],
   "source": [
    "os.listdir(my_data_dir)"
   ]
  },
  {
   "cell_type": "code",
   "execution_count": 4,
   "metadata": {},
   "outputs": [],
   "source": [
    "train_path = my_data_dir + '/train'\n",
    "test_path = my_data_dir + '/test'\n",
    "val_path = my_data_dir + '/val'"
   ]
  },
  {
   "cell_type": "code",
   "execution_count": 5,
   "metadata": {},
   "outputs": [
    {
     "data": {
      "text/plain": [
       "['NORMAL', 'PNEUMONIA']"
      ]
     },
     "execution_count": 5,
     "metadata": {},
     "output_type": "execute_result"
    }
   ],
   "source": [
    "os.listdir(train_path)"
   ]
  },
  {
   "cell_type": "code",
   "execution_count": 6,
   "metadata": {},
   "outputs": [
    {
     "data": {
      "text/plain": [
       "['NORMAL', 'PNEUMONIA']"
      ]
     },
     "execution_count": 6,
     "metadata": {},
     "output_type": "execute_result"
    }
   ],
   "source": [
    "os.listdir(test_path)"
   ]
  },
  {
   "cell_type": "code",
   "execution_count": 7,
   "metadata": {},
   "outputs": [
    {
     "data": {
      "text/plain": [
       "['NORMAL', 'PNEUMONIA']"
      ]
     },
     "execution_count": 7,
     "metadata": {},
     "output_type": "execute_result"
    }
   ],
   "source": [
    "os.listdir(val_path)"
   ]
  },
  {
   "cell_type": "markdown",
   "metadata": {},
   "source": [
    "### Visualize single image"
   ]
  },
  {
   "cell_type": "code",
   "execution_count": 8,
   "metadata": {},
   "outputs": [
    {
     "data": {
      "text/plain": [
       "'IM-0115-0001.jpeg'"
      ]
     },
     "execution_count": 8,
     "metadata": {},
     "output_type": "execute_result"
    }
   ],
   "source": [
    "os.listdir(train_path + '/NORMAL')[0]"
   ]
  },
  {
   "cell_type": "code",
   "execution_count": 9,
   "metadata": {},
   "outputs": [],
   "source": [
    "normal_example = train_path + '/NORMAL' + '/NORMAL2-IM-0927-0001.jpeg'"
   ]
  },
  {
   "cell_type": "code",
   "execution_count": 10,
   "metadata": {},
   "outputs": [
    {
     "data": {
      "text/plain": [
       "array([[ 0, 23, 24, ...,  0,  0,  0],\n",
       "       [ 0,  5, 23, ...,  0,  0,  0],\n",
       "       [ 1,  0, 26, ...,  0,  0,  0],\n",
       "       ...,\n",
       "       [ 0,  0,  0, ...,  0,  0,  0],\n",
       "       [ 0,  0,  0, ...,  0,  0,  0],\n",
       "       [ 0,  0,  0, ...,  0,  0,  0]], dtype=uint8)"
      ]
     },
     "execution_count": 10,
     "metadata": {},
     "output_type": "execute_result"
    }
   ],
   "source": [
    "normal_example = imread(normal_example)\n",
    "normal_example"
   ]
  },
  {
   "cell_type": "code",
   "execution_count": 11,
   "metadata": {},
   "outputs": [
    {
     "data": {
      "text/plain": [
       "255"
      ]
     },
     "execution_count": 11,
     "metadata": {},
     "output_type": "execute_result"
    }
   ],
   "source": [
    "normal_example.max()"
   ]
  },
  {
   "cell_type": "code",
   "execution_count": 12,
   "metadata": {},
   "outputs": [
    {
     "data": {
      "text/plain": [
       "0"
      ]
     },
     "execution_count": 12,
     "metadata": {},
     "output_type": "execute_result"
    }
   ],
   "source": [
    "normal_example.min()"
   ]
  },
  {
   "cell_type": "code",
   "execution_count": 13,
   "metadata": {},
   "outputs": [
    {
     "data": {
      "text/plain": [
       "(2234, 2359)"
      ]
     },
     "execution_count": 13,
     "metadata": {},
     "output_type": "execute_result"
    }
   ],
   "source": [
    "# height, width\n",
    "normal_example.shape "
   ]
  },
  {
   "cell_type": "code",
   "execution_count": 14,
   "metadata": {},
   "outputs": [
    {
     "data": {
      "text/plain": [
       "<matplotlib.image.AxesImage at 0x1b5f32f10d0>"
      ]
     },
     "execution_count": 14,
     "metadata": {},
     "output_type": "execute_result"
    },
    {
     "data": {
      "image/png": "[encoded data removed]",
      "text/plain": [
       "<Figure size 432x288 with 1 Axes>"
      ]
     },
     "metadata": {
      "needs_background": "light"
     },
     "output_type": "display_data"
    }
   ],
   "source": [
    "plt.imshow(normal_example,cmap='gray')"
   ]
  },
  {
   "cell_type": "code",
   "execution_count": 15,
   "metadata": {},
   "outputs": [
    {
     "data": {
      "text/plain": [
       "'person1019_virus_1707.jpeg'"
      ]
     },
     "execution_count": 15,
     "metadata": {},
     "output_type": "execute_result"
    }
   ],
   "source": [
    "os.listdir(train_path + '/PNEUMONIA')[30]"
   ]
  },
  {
   "cell_type": "code",
   "execution_count": 16,
   "metadata": {},
   "outputs": [],
   "source": [
    "abnormal_example = train_path + '/PNEUMONIA' + '/person437_bacteria_1887.jpeg'"
   ]
  },
  {
   "cell_type": "code",
   "execution_count": 17,
   "metadata": {},
   "outputs": [
    {
     "data": {
      "text/plain": [
       "<matplotlib.image.AxesImage at 0x1b5f3fed700>"
      ]
     },
     "execution_count": 17,
     "metadata": {},
     "output_type": "execute_result"
    },
    {
     "data": {
      "image/png": "[encoded data removed]",
      "text/plain": [
       "<Figure size 432x288 with 1 Axes>"
      ]
     },
     "metadata": {
      "needs_background": "light"
     },
     "output_type": "display_data"
    }
   ],
   "source": [
    "plt.imshow(imread(abnormal_example),cmap='gray') "
   ]
  },
  {
   "cell_type": "markdown",
   "metadata": {},
   "source": [
    "### Check how many images are there"
   ]
  },
  {
   "cell_type": "code",
   "execution_count": 18,
   "metadata": {},
   "outputs": [
    {
     "data": {
      "text/plain": [
       "1341"
      ]
     },
     "execution_count": 18,
     "metadata": {},
     "output_type": "execute_result"
    }
   ],
   "source": [
    "len(os.listdir(train_path+'/NORMAL'))"
   ]
  },
  {
   "cell_type": "code",
   "execution_count": 19,
   "metadata": {},
   "outputs": [
    {
     "data": {
      "text/plain": [
       "3875"
      ]
     },
     "execution_count": 19,
     "metadata": {},
     "output_type": "execute_result"
    }
   ],
   "source": [
    "len(os.listdir(train_path+'/PNEUMONIA'))"
   ]
  },
  {
   "cell_type": "code",
   "execution_count": 20,
   "metadata": {},
   "outputs": [
    {
     "data": {
      "text/plain": [
       "234"
      ]
     },
     "execution_count": 20,
     "metadata": {},
     "output_type": "execute_result"
    }
   ],
   "source": [
    "len(os.listdir(test_path+'/NORMAL'))"
   ]
  },
  {
   "cell_type": "code",
   "execution_count": 21,
   "metadata": {},
   "outputs": [
    {
     "data": {
      "text/plain": [
       "390"
      ]
     },
     "execution_count": 21,
     "metadata": {},
     "output_type": "execute_result"
    }
   ],
   "source": [
    "len(os.listdir(test_path+'/PNEUMONIA'))"
   ]
  },
  {
   "cell_type": "code",
   "execution_count": 22,
   "metadata": {},
   "outputs": [
    {
     "data": {
      "text/plain": [
       "8"
      ]
     },
     "execution_count": 22,
     "metadata": {},
     "output_type": "execute_result"
    }
   ],
   "source": [
    "len(os.listdir(val_path+'/NORMAL'))"
   ]
  },
  {
   "cell_type": "code",
   "execution_count": 23,
   "metadata": {},
   "outputs": [
    {
     "data": {
      "text/plain": [
       "8"
      ]
     },
     "execution_count": 23,
     "metadata": {},
     "output_type": "execute_result"
    }
   ],
   "source": [
    "len(os.listdir(val_path+'/PNEUMONIA'))"
   ]
  },
  {
   "cell_type": "markdown",
   "metadata": {},
   "source": [
    "## 2.Data Preprocessing"
   ]
  },
  {
   "cell_type": "code",
   "execution_count": 24,
   "metadata": {},
   "outputs": [],
   "source": [
    "train_gen= ImageDataGenerator(rescale=1.0/255.0)\n",
    "val_gen = ImageDataGenerator(rescale=1.0/255.0)\n",
    "test_gen = ImageDataGenerator(rescale=1.0/255.0)"
   ]
  },
  {
   "cell_type": "markdown",
   "metadata": {},
   "source": [
    "## 3.Building the Model"
   ]
  },
  {
   "cell_type": "code",
   "execution_count": 25,
   "metadata": {},
   "outputs": [],
   "source": [
    "model = Sequential()\n",
    "\n",
    "# 1st Block \n",
    "model.add(Conv2D(filters=32, kernel_size=(3,3), strides=(3,3) ,input_shape=(224,224,1), activation='relu'))\n",
    "model.add(MaxPooling2D(pool_size=(2, 2)))\n",
    "\n",
    "# 2nd Block\n",
    "model.add(Conv2D(filters=32, kernel_size=(2,2),strides=(2,2), activation='relu'))\n",
    "model.add(BatchNormalization())\n",
    "model.add(MaxPooling2D(pool_size=(2, 2)))\n",
    "\n",
    "\n",
    "# Flatten and Fully Connected Layer\n",
    "model.add(Flatten())\n",
    "model.add(Dense(100))\n",
    "model.add(Activation('relu'))\n",
    "\n",
    "\n",
    "# Sigmoid Classifier\n",
    "model.add(Dense(1))\n",
    "model.add(Activation('sigmoid'))\n",
    "\n",
    "\n",
    "# compile model \n",
    "model.compile(optimizer='adam', \n",
    "              loss='binary_crossentropy', \n",
    "              metrics=['accuracy'])"
   ]
  },
  {
   "cell_type": "code",
   "execution_count": 26,
   "metadata": {},
   "outputs": [
    {
     "name": "stdout",
     "output_type": "stream",
     "text": [
      "Model: \"sequential\"\n",
      "_________________________________________________________________\n",
      "Layer (type)                 Output Shape              Param #   \n",
      "=================================================================\n",
      "conv2d (Conv2D)              (None, 74, 74, 32)        320       \n",
      "_________________________________________________________________\n",
      "max_pooling2d (MaxPooling2D) (None, 37, 37, 32)        0         \n",
      "_________________________________________________________________\n",
      "conv2d_1 (Conv2D)            (None, 18, 18, 32)        4128      \n",
      "_________________________________________________________________\n",
      "batch_normalization (BatchNo (None, 18, 18, 32)        128       \n",
      "_________________________________________________________________\n",
      "max_pooling2d_1 (MaxPooling2 (None, 9, 9, 32)          0         \n",
      "_________________________________________________________________\n",
      "flatten (Flatten)            (None, 2592)              0         \n",
      "_________________________________________________________________\n",
      "dense (Dense)                (None, 100)               259300    \n",
      "_________________________________________________________________\n",
      "activation (Activation)      (None, 100)               0         \n",
      "_________________________________________________________________\n",
      "dense_1 (Dense)              (None, 1)                 101       \n",
      "_________________________________________________________________\n",
      "activation_1 (Activation)    (None, 1)                 0         \n",
      "=================================================================\n",
      "Total params: 263,977\n",
      "Trainable params: 263,913\n",
      "Non-trainable params: 64\n",
      "_________________________________________________________________\n"
     ]
    }
   ],
   "source": [
    "model.summary()"
   ]
  },
  {
   "cell_type": "markdown",
   "metadata": {},
   "source": [
    "## 4.Training the Model"
   ]
  },
  {
   "cell_type": "code",
   "execution_count": 27,
   "metadata": {},
   "outputs": [
    {
     "name": "stdout",
     "output_type": "stream",
     "text": [
      "Found 5216 images belonging to 2 classes.\n",
      "Found 16 images belonging to 2 classes.\n",
      "Found 624 images belonging to 2 classes.\n"
     ]
    }
   ],
   "source": [
    "batch_size=250\n",
    "\n",
    "train_img_gen = train_gen.flow_from_directory(train_path,classes =('NORMAL','PNEUMONIA'),class_mode='binary',batch_size=batch_size, target_size=(224, 224), color_mode='grayscale')\n",
    "valid_img_gen = val_gen.flow_from_directory(val_path,classes =('NORMAL','PNEUMONIA'),class_mode='binary',batch_size=batch_size, target_size=(224, 224),color_mode='grayscale')\n",
    "test_img_gen = test_gen.flow_from_directory(test_path,classes =('NORMAL','PNEUMONIA'),class_mode='binary',batch_size=batch_size, target_size=(224, 224),color_mode='grayscale')\n"
   ]
  },
  {
   "cell_type": "code",
   "execution_count": 28,
   "metadata": {},
   "outputs": [
    {
     "data": {
      "text/plain": [
       "{'NORMAL': 0, 'PNEUMONIA': 1}"
      ]
     },
     "execution_count": 28,
     "metadata": {},
     "output_type": "execute_result"
    }
   ],
   "source": [
    "train_img_gen.class_indices"
   ]
  },
  {
   "cell_type": "code",
   "execution_count": 29,
   "metadata": {
    "scrolled": true
   },
   "outputs": [
    {
     "name": "stdout",
     "output_type": "stream",
     "text": [
      "WARNING:tensorflow:From <ipython-input-29-997c94d9e0ef>:3: Model.fit_generator (from tensorflow.python.keras.engine.training) is deprecated and will be removed in a future version.\n",
      "Instructions for updating:\n",
      "Please use Model.fit, which supports generators.\n",
      "Epoch 1/10\n",
      "21/21 [==============================] - 55s 3s/step - loss: 0.3989 - accuracy: 0.8324 - val_loss: 0.6216 - val_accuracy: 0.6250\n",
      "Epoch 2/10\n",
      "21/21 [==============================] - 46s 2s/step - loss: 0.1530 - accuracy: 0.9431 - val_loss: 0.6154 - val_accuracy: 0.6250\n",
      "Epoch 3/10\n",
      "21/21 [==============================] - 46s 2s/step - loss: 0.1001 - accuracy: 0.9615 - val_loss: 0.5862 - val_accuracy: 0.6250\n",
      "Epoch 4/10\n",
      "21/21 [==============================] - 46s 2s/step - loss: 0.0737 - accuracy: 0.9732 - val_loss: 0.5669 - val_accuracy: 0.6346\n",
      "Epoch 5/10\n",
      "21/21 [==============================] - 46s 2s/step - loss: 0.0574 - accuracy: 0.9781 - val_loss: 0.5525 - val_accuracy: 0.6378\n",
      "Epoch 6/10\n",
      "21/21 [==============================] - 46s 2s/step - loss: 0.0490 - accuracy: 0.9810 - val_loss: 0.5151 - val_accuracy: 0.6843\n",
      "Epoch 7/10\n",
      "21/21 [==============================] - 49s 2s/step - loss: 0.0454 - accuracy: 0.9850 - val_loss: 0.5038 - val_accuracy: 0.7019\n",
      "Epoch 8/10\n",
      "21/21 [==============================] - 49s 2s/step - loss: 0.0427 - accuracy: 0.9849 - val_loss: 0.5072 - val_accuracy: 0.6795\n",
      "Epoch 9/10\n",
      "21/21 [==============================] - 48s 2s/step - loss: 0.0325 - accuracy: 0.9889 - val_loss: 0.4894 - val_accuracy: 0.7051\n",
      "Epoch 10/10\n",
      "21/21 [==============================] - 49s 2s/step - loss: 0.0304 - accuracy: 0.9891 - val_loss: 0.4965 - val_accuracy: 0.6923\n"
     ]
    },
    {
     "data": {
      "text/plain": [
       "<tensorflow.python.keras.callbacks.History at 0x1b5f4fec970>"
      ]
     },
     "execution_count": 29,
     "metadata": {},
     "output_type": "execute_result"
    }
   ],
   "source": [
    "epochs=10\n",
    "\n",
    "model.fit_generator(train_img_gen,\n",
    "                    validation_data=test_img_gen, \n",
    "                    epochs=epochs)"
   ]
  },
  {
   "cell_type": "code",
   "execution_count": 30,
   "metadata": {},
   "outputs": [],
   "source": [
    "# model.layers[0].get_weights()[0][:,:,:,0]"
   ]
  },
  {
   "cell_type": "code",
   "execution_count": 31,
   "metadata": {},
   "outputs": [],
   "source": [
    "model.save('cnn_model.h5')"
   ]
  },
  {
   "cell_type": "markdown",
   "metadata": {},
   "source": [
    "## 5.Evaluating the Model"
   ]
  },
  {
   "cell_type": "code",
   "execution_count": 32,
   "metadata": {},
   "outputs": [],
   "source": [
    "losses = pd.DataFrame(model.history.history)"
   ]
  },
  {
   "cell_type": "code",
   "execution_count": 33,
   "metadata": {},
   "outputs": [
    {
     "data": {
      "text/plain": [
       "<matplotlib.axes._subplots.AxesSubplot at 0x1b580298520>"
      ]
     },
     "execution_count": 33,
     "metadata": {},
     "output_type": "execute_result"
    },
    {
     "data": {
      "image/png": "[encoded data removed]",
      "text/plain": [
       "<Figure size 432x288 with 1 Axes>"
      ]
     },
     "metadata": {
      "needs_background": "light"
     },
     "output_type": "display_data"
    }
   ],
   "source": [
    "losses[['loss','val_loss']].plot()"
   ]
  },
  {
   "cell_type": "code",
   "execution_count": 34,
   "metadata": {},
   "outputs": [
    {
     "data": {
      "text/plain": [
       "['loss', 'accuracy']"
      ]
     },
     "execution_count": 34,
     "metadata": {},
     "output_type": "execute_result"
    }
   ],
   "source": [
    "model.metrics_names"
   ]
  },
  {
   "cell_type": "code",
   "execution_count": 35,
   "metadata": {},
   "outputs": [
    {
     "name": "stdout",
     "output_type": "stream",
     "text": [
      "WARNING:tensorflow:From <ipython-input-35-5909aea2347c>:1: Model.predict_generator (from tensorflow.python.keras.engine.training) is deprecated and will be removed in a future version.\n",
      "Instructions for updating:\n",
      "Please use Model.predict, which supports generators.\n"
     ]
    }
   ],
   "source": [
    "pred_probabilities = model.predict_generator(test_img_gen)"
   ]
  },
  {
   "cell_type": "code",
   "execution_count": 36,
   "metadata": {},
   "outputs": [
    {
     "data": {
      "text/plain": [
       "array([[0.9524617 ],\n",
       "       [0.5364416 ],\n",
       "       [0.4799638 ],\n",
       "       [0.6958033 ],\n",
       "       [0.90637827],\n",
       "       [0.7647898 ],\n",
       "       [0.84681606],\n",
       "       [0.7658475 ],\n",
       "       [0.66470623],\n",
       "       [0.7954879 ],\n",
       "       [0.8896383 ],\n",
       "       [0.79523504],\n",
       "       [0.9728648 ],\n",
       "       [0.8997099 ],\n",
       "       [0.9268017 ],\n",
       "       [0.9036372 ],\n",
       "       [0.413605  ],\n",
       "       [0.83570063],\n",
       "       [0.90594405],\n",
       "       [0.7204337 ],\n",
       "       [0.767765  ],\n",
       "       [0.90586185],\n",
       "       [0.9417292 ],\n",
       "       [0.82785296],\n",
       "       [0.85383475],\n",
       "       [0.506002  ],\n",
       "       [0.7918969 ],\n",
       "       [0.95597064],\n",
       "       [0.8974557 ],\n",
       "       [0.6265926 ],\n",
       "       [0.93808955],\n",
       "       [0.93154395],\n",
       "       [0.88347316],\n",
       "       [0.62472427],\n",
       "       [0.73887324],\n",
       "       [0.89407575],\n",
       "       [0.9472027 ],\n",
       "       [0.8925219 ],\n",
       "       [0.7269545 ],\n",
       "       [0.6771599 ],\n",
       "       [0.75118613],\n",
       "       [0.5746575 ],\n",
       "       [0.8839396 ],\n",
       "       [0.47493148],\n",
       "       [0.91193235],\n",
       "       [0.6275349 ],\n",
       "       [0.4860456 ],\n",
       "       [0.7711852 ],\n",
       "       [0.47885177],\n",
       "       [0.8365936 ],\n",
       "       [0.78271216],\n",
       "       [0.9549665 ],\n",
       "       [0.93379766],\n",
       "       [0.8088546 ],\n",
       "       [0.7838038 ],\n",
       "       [0.9334818 ],\n",
       "       [0.7516161 ],\n",
       "       [0.7071234 ],\n",
       "       [0.65825224],\n",
       "       [0.75369084],\n",
       "       [0.58156717],\n",
       "       [0.84477955],\n",
       "       [0.8534523 ],\n",
       "       [0.79245794],\n",
       "       [0.8747755 ],\n",
       "       [0.9441472 ],\n",
       "       [0.93529916],\n",
       "       [0.88900685],\n",
       "       [0.50156695],\n",
       "       [0.9193578 ],\n",
       "       [0.7628348 ],\n",
       "       [0.9254534 ],\n",
       "       [0.85353434],\n",
       "       [0.7989145 ],\n",
       "       [0.8432821 ],\n",
       "       [0.89461327],\n",
       "       [0.45854807],\n",
       "       [0.5825982 ],\n",
       "       [0.8069103 ],\n",
       "       [0.5163774 ],\n",
       "       [0.7376041 ],\n",
       "       [0.82454   ],\n",
       "       [0.87831044],\n",
       "       [0.93717444],\n",
       "       [0.81403476],\n",
       "       [0.52659065],\n",
       "       [0.7920115 ],\n",
       "       [0.9253489 ],\n",
       "       [0.7841275 ],\n",
       "       [0.5528906 ],\n",
       "       [0.82566357],\n",
       "       [0.89307874],\n",
       "       [0.5337429 ],\n",
       "       [0.6604707 ],\n",
       "       [0.8221824 ],\n",
       "       [0.61538607],\n",
       "       [0.6878523 ],\n",
       "       [0.47213325],\n",
       "       [0.6203019 ],\n",
       "       [0.506436  ],\n",
       "       [0.8730881 ],\n",
       "       [0.58298916],\n",
       "       [0.8143823 ],\n",
       "       [0.90335894],\n",
       "       [0.7937095 ],\n",
       "       [0.75677955],\n",
       "       [0.36594683],\n",
       "       [0.48460865],\n",
       "       [0.58363456],\n",
       "       [0.9359683 ],\n",
       "       [0.6954979 ],\n",
       "       [0.91046834],\n",
       "       [0.71267056],\n",
       "       [0.9275918 ],\n",
       "       [0.90158004],\n",
       "       [0.95149183],\n",
       "       [0.8350404 ],\n",
       "       [0.8793987 ],\n",
       "       [0.7009166 ],\n",
       "       [0.89188594],\n",
       "       [0.82120496],\n",
       "       [0.9264389 ],\n",
       "       [0.89813244],\n",
       "       [0.63070726],\n",
       "       [0.8810139 ],\n",
       "       [0.93305254],\n",
       "       [0.80618894],\n",
       "       [0.6985598 ],\n",
       "       [0.9219476 ],\n",
       "       [0.6195583 ],\n",
       "       [0.670988  ],\n",
       "       [0.85344005],\n",
       "       [0.58331347],\n",
       "       [0.890458  ],\n",
       "       [0.89286256],\n",
       "       [0.902166  ],\n",
       "       [0.61215645],\n",
       "       [0.82732356],\n",
       "       [0.8570627 ],\n",
       "       [0.9007164 ],\n",
       "       [0.7335812 ],\n",
       "       [0.8116291 ],\n",
       "       [0.90448   ],\n",
       "       [0.6329851 ],\n",
       "       [0.9046676 ],\n",
       "       [0.90853965],\n",
       "       [0.8038448 ],\n",
       "       [0.9406868 ],\n",
       "       [0.9182239 ],\n",
       "       [0.7748654 ],\n",
       "       [0.9718938 ],\n",
       "       [0.25913084],\n",
       "       [0.5409458 ],\n",
       "       [0.6941957 ],\n",
       "       [0.9430193 ],\n",
       "       [0.8733148 ],\n",
       "       [0.55650085],\n",
       "       [0.8923544 ],\n",
       "       [0.9140047 ],\n",
       "       [0.6927968 ],\n",
       "       [0.87609947],\n",
       "       [0.7587935 ],\n",
       "       [0.8658006 ],\n",
       "       [0.9045081 ],\n",
       "       [0.85415745],\n",
       "       [0.68259025],\n",
       "       [0.9042958 ],\n",
       "       [0.6536943 ],\n",
       "       [0.84807765],\n",
       "       [0.8868501 ],\n",
       "       [0.92330754],\n",
       "       [0.8708856 ],\n",
       "       [0.3263569 ],\n",
       "       [0.83619785],\n",
       "       [0.21557766],\n",
       "       [0.92282534],\n",
       "       [0.88410425],\n",
       "       [0.8562814 ],\n",
       "       [0.80139136],\n",
       "       [0.9096338 ],\n",
       "       [0.86640733],\n",
       "       [0.96506846],\n",
       "       [0.8784245 ],\n",
       "       [0.9560522 ],\n",
       "       [0.5466201 ],\n",
       "       [0.8555295 ],\n",
       "       [0.7500004 ],\n",
       "       [0.6049443 ],\n",
       "       [0.8271744 ],\n",
       "       [0.5030778 ],\n",
       "       [0.69810975],\n",
       "       [0.9654982 ],\n",
       "       [0.8335483 ],\n",
       "       [0.8999195 ],\n",
       "       [0.9360684 ],\n",
       "       [0.8753984 ],\n",
       "       [0.6085851 ],\n",
       "       [0.92641115],\n",
       "       [0.7554623 ],\n",
       "       [0.89089   ],\n",
       "       [0.9252562 ],\n",
       "       [0.65064937],\n",
       "       [0.77726114],\n",
       "       [0.8871193 ],\n",
       "       [0.89882606],\n",
       "       [0.92486763],\n",
       "       [0.9063423 ],\n",
       "       [0.8872172 ],\n",
       "       [0.91921496],\n",
       "       [0.81538475],\n",
       "       [0.48186982],\n",
       "       [0.87701637],\n",
       "       [0.7467146 ],\n",
       "       [0.6124065 ],\n",
       "       [0.8543797 ],\n",
       "       [0.5764226 ],\n",
       "       [0.42984754],\n",
       "       [0.49105257],\n",
       "       [0.8420447 ],\n",
       "       [0.8250433 ],\n",
       "       [0.92065156],\n",
       "       [0.9220872 ],\n",
       "       [0.8310838 ],\n",
       "       [0.7746751 ],\n",
       "       [0.82718956],\n",
       "       [0.9181328 ],\n",
       "       [0.53264815],\n",
       "       [0.5227314 ],\n",
       "       [0.28078154],\n",
       "       [0.8439938 ],\n",
       "       [0.87838113],\n",
       "       [0.9592695 ],\n",
       "       [0.92282534],\n",
       "       [0.5983146 ],\n",
       "       [0.92075384],\n",
       "       [0.8508483 ],\n",
       "       [0.5794281 ],\n",
       "       [0.38848013],\n",
       "       [0.92153275],\n",
       "       [0.6950432 ],\n",
       "       [0.5037098 ],\n",
       "       [0.8115493 ],\n",
       "       [0.9025377 ],\n",
       "       [0.9118409 ],\n",
       "       [0.89228815],\n",
       "       [0.67544454],\n",
       "       [0.70214736],\n",
       "       [0.8519038 ],\n",
       "       [0.8609661 ],\n",
       "       [0.8808603 ],\n",
       "       [0.85415316],\n",
       "       [0.29447186],\n",
       "       [0.84623504],\n",
       "       [0.52621186],\n",
       "       [0.9094334 ],\n",
       "       [0.3784724 ],\n",
       "       [0.71083236],\n",
       "       [0.5777314 ],\n",
       "       [0.73491496],\n",
       "       [0.9354632 ],\n",
       "       [0.9226066 ],\n",
       "       [0.9187455 ],\n",
       "       [0.7686791 ],\n",
       "       [0.8574871 ],\n",
       "       [0.8549342 ],\n",
       "       [0.8263761 ],\n",
       "       [0.89517343],\n",
       "       [0.54574573],\n",
       "       [0.5497142 ],\n",
       "       [0.91257274],\n",
       "       [0.4628642 ],\n",
       "       [0.8158147 ],\n",
       "       [0.9071175 ],\n",
       "       [0.74110943],\n",
       "       [0.9118745 ],\n",
       "       [0.8845333 ],\n",
       "       [0.8923601 ],\n",
       "       [0.6631578 ],\n",
       "       [0.81128466],\n",
       "       [0.91117114],\n",
       "       [0.90204555],\n",
       "       [0.7171539 ],\n",
       "       [0.5786848 ],\n",
       "       [0.781384  ],\n",
       "       [0.80989   ],\n",
       "       [0.775445  ],\n",
       "       [0.5909232 ],\n",
       "       [0.92864823],\n",
       "       [0.90147424],\n",
       "       [0.6298357 ],\n",
       "       [0.8632448 ],\n",
       "       [0.96441287],\n",
       "       [0.87084955],\n",
       "       [0.48019147],\n",
       "       [0.8856764 ],\n",
       "       [0.8963909 ],\n",
       "       [0.8380421 ],\n",
       "       [0.63881445],\n",
       "       [0.894963  ],\n",
       "       [0.92591083],\n",
       "       [0.69244504],\n",
       "       [0.9393306 ],\n",
       "       [0.8599239 ],\n",
       "       [0.44912627],\n",
       "       [0.89554656],\n",
       "       [0.89342666],\n",
       "       [0.8868584 ],\n",
       "       [0.9630395 ],\n",
       "       [0.747327  ],\n",
       "       [0.36482698],\n",
       "       [0.9306901 ],\n",
       "       [0.78723514],\n",
       "       [0.7961689 ],\n",
       "       [0.94518554],\n",
       "       [0.50473654],\n",
       "       [0.7804593 ],\n",
       "       [0.8629675 ],\n",
       "       [0.7672407 ],\n",
       "       [0.9591928 ],\n",
       "       [0.7481743 ],\n",
       "       [0.69008845],\n",
       "       [0.81110495],\n",
       "       [0.39953905],\n",
       "       [0.7670784 ],\n",
       "       [0.8464282 ],\n",
       "       [0.48086065],\n",
       "       [0.8956339 ],\n",
       "       [0.8546536 ],\n",
       "       [0.88911474],\n",
       "       [0.64591926],\n",
       "       [0.81563675],\n",
       "       [0.9121795 ],\n",
       "       [0.9320822 ],\n",
       "       [0.84972703],\n",
       "       [0.8765687 ],\n",
       "       [0.46332026],\n",
       "       [0.59707814],\n",
       "       [0.80973315],\n",
       "       [0.54253453],\n",
       "       [0.9226066 ],\n",
       "       [0.87527895],\n",
       "       [0.9204404 ],\n",
       "       [0.80331004],\n",
       "       [0.79568344],\n",
       "       [0.7821116 ],\n",
       "       [0.87365437],\n",
       "       [0.93391335],\n",
       "       [0.59479916],\n",
       "       [0.90011466],\n",
       "       [0.6102513 ],\n",
       "       [0.7162437 ],\n",
       "       [0.5166649 ],\n",
       "       [0.93290985],\n",
       "       [0.8128385 ],\n",
       "       [0.8571292 ],\n",
       "       [0.85367906],\n",
       "       [0.9509889 ],\n",
       "       [0.71361387],\n",
       "       [0.6984972 ],\n",
       "       [0.9318359 ],\n",
       "       [0.680835  ],\n",
       "       [0.68098485],\n",
       "       [0.8707739 ],\n",
       "       [0.53205997],\n",
       "       [0.5432643 ],\n",
       "       [0.9101411 ],\n",
       "       [0.5090036 ],\n",
       "       [0.6484387 ],\n",
       "       [0.7931527 ],\n",
       "       [0.50080967],\n",
       "       [0.93312335],\n",
       "       [0.54633737],\n",
       "       [0.3984512 ],\n",
       "       [0.64918804],\n",
       "       [0.91285944],\n",
       "       [0.38635024],\n",
       "       [0.9179706 ],\n",
       "       [0.8612015 ],\n",
       "       [0.5659547 ],\n",
       "       [0.63671803],\n",
       "       [0.8559005 ],\n",
       "       [0.875316  ],\n",
       "       [0.7981823 ],\n",
       "       [0.8446883 ],\n",
       "       [0.5823018 ],\n",
       "       [0.4507003 ],\n",
       "       [0.85717416],\n",
       "       [0.683685  ],\n",
       "       [0.75443745],\n",
       "       [0.80746067],\n",
       "       [0.8335403 ],\n",
       "       [0.7639166 ],\n",
       "       [0.5832047 ],\n",
       "       [0.9025494 ],\n",
       "       [0.67216945],\n",
       "       [0.8743495 ],\n",
       "       [0.5080253 ],\n",
       "       [0.89093804],\n",
       "       [0.9148041 ],\n",
       "       [0.61686164],\n",
       "       [0.7663023 ],\n",
       "       [0.84031034],\n",
       "       [0.7752933 ],\n",
       "       [0.8240804 ],\n",
       "       [0.85607517],\n",
       "       [0.9642098 ],\n",
       "       [0.7930002 ],\n",
       "       [0.7780551 ],\n",
       "       [0.93376386],\n",
       "       [0.48965567],\n",
       "       [0.8369875 ],\n",
       "       [0.41655496],\n",
       "       [0.63087755],\n",
       "       [0.53447926],\n",
       "       [0.8798076 ],\n",
       "       [0.79329765],\n",
       "       [0.52976334],\n",
       "       [0.8918346 ],\n",
       "       [0.5139521 ],\n",
       "       [0.7784074 ],\n",
       "       [0.911878  ],\n",
       "       [0.84457356],\n",
       "       [0.67746645],\n",
       "       [0.56408   ],\n",
       "       [0.8901889 ],\n",
       "       [0.9395037 ],\n",
       "       [0.77070194],\n",
       "       [0.7351082 ],\n",
       "       [0.9176644 ],\n",
       "       [0.6285552 ],\n",
       "       [0.91184115],\n",
       "       [0.8829319 ],\n",
       "       [0.92440915],\n",
       "       [0.72588795],\n",
       "       [0.90705705],\n",
       "       [0.5419115 ],\n",
       "       [0.8736075 ],\n",
       "       [0.91243505],\n",
       "       [0.65625024],\n",
       "       [0.9139737 ],\n",
       "       [0.7645836 ],\n",
       "       [0.8785686 ],\n",
       "       [0.835201  ],\n",
       "       [0.81371063],\n",
       "       [0.9572219 ],\n",
       "       [0.86252105],\n",
       "       [0.924171  ],\n",
       "       [0.92242706],\n",
       "       [0.8366218 ],\n",
       "       [0.8560166 ],\n",
       "       [0.905692  ],\n",
       "       [0.93854773],\n",
       "       [0.9142808 ],\n",
       "       [0.6353758 ],\n",
       "       [0.5912729 ],\n",
       "       [0.84939194],\n",
       "       [0.71856874],\n",
       "       [0.56729215],\n",
       "       [0.8550327 ],\n",
       "       [0.84983015],\n",
       "       [0.7389678 ],\n",
       "       [0.9118453 ],\n",
       "       [0.61299235],\n",
       "       [0.40585065],\n",
       "       [0.82761896],\n",
       "       [0.7103587 ],\n",
       "       [0.54253453],\n",
       "       [0.8691035 ],\n",
       "       [0.7239487 ],\n",
       "       [0.6884633 ],\n",
       "       [0.800987  ],\n",
       "       [0.89402944],\n",
       "       [0.8262094 ],\n",
       "       [0.5936059 ],\n",
       "       [0.8438277 ],\n",
       "       [0.8606896 ],\n",
       "       [0.55820155],\n",
       "       [0.9211552 ],\n",
       "       [0.6819524 ],\n",
       "       [0.6811434 ],\n",
       "       [0.41760898],\n",
       "       [0.3263471 ],\n",
       "       [0.94087636],\n",
       "       [0.680896  ],\n",
       "       [0.42662314],\n",
       "       [0.8987595 ],\n",
       "       [0.90204966],\n",
       "       [0.40970486],\n",
       "       [0.8506712 ],\n",
       "       [0.9040841 ],\n",
       "       [0.91870344],\n",
       "       [0.5787381 ],\n",
       "       [0.8854096 ],\n",
       "       [0.8957411 ],\n",
       "       [0.76588106],\n",
       "       [0.6903023 ],\n",
       "       [0.87404644],\n",
       "       [0.5203345 ],\n",
       "       [0.7873415 ],\n",
       "       [0.8046746 ],\n",
       "       [0.83920586],\n",
       "       [0.92265284],\n",
       "       [0.7641792 ],\n",
       "       [0.8351048 ],\n",
       "       [0.8192526 ],\n",
       "       [0.8603617 ],\n",
       "       [0.8096025 ],\n",
       "       [0.781293  ],\n",
       "       [0.846737  ],\n",
       "       [0.9390091 ],\n",
       "       [0.9161349 ],\n",
       "       [0.8756906 ],\n",
       "       [0.915884  ],\n",
       "       [0.70707303],\n",
       "       [0.8586711 ],\n",
       "       [0.949756  ],\n",
       "       [0.7752248 ],\n",
       "       [0.96053886],\n",
       "       [0.9235847 ],\n",
       "       [0.8201769 ],\n",
       "       [0.7297984 ],\n",
       "       [0.695374  ],\n",
       "       [0.923093  ],\n",
       "       [0.91393596],\n",
       "       [0.87329173],\n",
       "       [0.6249178 ],\n",
       "       [0.9459912 ],\n",
       "       [0.94808453],\n",
       "       [0.87549555],\n",
       "       [0.858957  ],\n",
       "       [0.8037006 ],\n",
       "       [0.6457759 ],\n",
       "       [0.7879541 ],\n",
       "       [0.81705046],\n",
       "       [0.9041035 ],\n",
       "       [0.6346984 ],\n",
       "       [0.92154455],\n",
       "       [0.92174983],\n",
       "       [0.5279066 ],\n",
       "       [0.76889217],\n",
       "       [0.82568634],\n",
       "       [0.5969857 ],\n",
       "       [0.93803984],\n",
       "       [0.803591  ],\n",
       "       [0.8182142 ],\n",
       "       [0.7448518 ],\n",
       "       [0.5952563 ],\n",
       "       [0.897755  ],\n",
       "       [0.8238754 ],\n",
       "       [0.8405433 ],\n",
       "       [0.8295809 ],\n",
       "       [0.9092349 ],\n",
       "       [0.6949914 ],\n",
       "       [0.92132765],\n",
       "       [0.9310079 ],\n",
       "       [0.94339883],\n",
       "       [0.8753964 ],\n",
       "       [0.79568255],\n",
       "       [0.9490657 ],\n",
       "       [0.79611826],\n",
       "       [0.7726151 ],\n",
       "       [0.61882514],\n",
       "       [0.86190426],\n",
       "       [0.8678483 ],\n",
       "       [0.7889701 ],\n",
       "       [0.89637524],\n",
       "       [0.8860209 ],\n",
       "       [0.90806127],\n",
       "       [0.8631495 ],\n",
       "       [0.65899205],\n",
       "       [0.6399791 ],\n",
       "       [0.6559403 ],\n",
       "       [0.93644685],\n",
       "       [0.76917934],\n",
       "       [0.9031607 ],\n",
       "       [0.8036499 ],\n",
       "       [0.9231553 ],\n",
       "       [0.82352746],\n",
       "       [0.6940559 ],\n",
       "       [0.7981823 ],\n",
       "       [0.96051335],\n",
       "       [0.91767865],\n",
       "       [0.82462484],\n",
       "       [0.7895458 ],\n",
       "       [0.79891443],\n",
       "       [0.8032525 ],\n",
       "       [0.9032341 ],\n",
       "       [0.89365387],\n",
       "       [0.94294775],\n",
       "       [0.8883982 ],\n",
       "       [0.8194827 ],\n",
       "       [0.9157492 ],\n",
       "       [0.70707303],\n",
       "       [0.48274848],\n",
       "       [0.53953993],\n",
       "       [0.905156  ],\n",
       "       [0.9318645 ],\n",
       "       [0.6574583 ],\n",
       "       [0.49603075],\n",
       "       [0.6022851 ],\n",
       "       [0.8418323 ],\n",
       "       [0.83968097],\n",
       "       [0.8880072 ],\n",
       "       [0.94623315],\n",
       "       [0.75049746],\n",
       "       [0.4237788 ],\n",
       "       [0.5962055 ],\n",
       "       [0.4940494 ],\n",
       "       [0.60085   ],\n",
       "       [0.67725575],\n",
       "       [0.91919625],\n",
       "       [0.91075045],\n",
       "       [0.9177459 ],\n",
       "       [0.91210294],\n",
       "       [0.5982299 ],\n",
       "       [0.81647766],\n",
       "       [0.8532336 ],\n",
       "       [0.4406727 ],\n",
       "       [0.886534  ],\n",
       "       [0.8264389 ],\n",
       "       [0.6535831 ],\n",
       "       [0.43379512],\n",
       "       [0.8399004 ],\n",
       "       [0.7174604 ]], dtype=float32)"
      ]
     },
     "execution_count": 36,
     "metadata": {},
     "output_type": "execute_result"
    }
   ],
   "source": [
    "pred_probabilities"
   ]
  },
  {
   "cell_type": "code",
   "execution_count": 37,
   "metadata": {
    "scrolled": true
   },
   "outputs": [],
   "source": [
    "y_true = test_img_gen.classes"
   ]
  },
  {
   "cell_type": "code",
   "execution_count": 38,
   "metadata": {},
   "outputs": [],
   "source": [
    "predictions = pred_probabilities > 0.5"
   ]
  },
  {
   "cell_type": "code",
   "execution_count": 39,
   "metadata": {},
   "outputs": [
    {
     "data": {
      "text/plain": [
       "array([[ True],\n",
       "       [ True],\n",
       "       [False],\n",
       "       [ True],\n",
       "       [ True],\n",
       "       [ True],\n",
       "       [ True],\n",
       "       [ True],\n",
       "       [ True],\n",
       "       [ True],\n",
       "       [ True],\n",
       "       [ True],\n",
       "       [ True],\n",
       "       [ True],\n",
       "       [ True],\n",
       "       [ True],\n",
       "       [False],\n",
       "       [ True],\n",
       "       [ True],\n",
       "       [ True],\n",
       "       [ True],\n",
       "       [ True],\n",
       "       [ True],\n",
       "       [ True],\n",
       "       [ True],\n",
       "       [ True],\n",
       "       [ True],\n",
       "       [ True],\n",
       "       [ True],\n",
       "       [ True],\n",
       "       [ True],\n",
       "       [ True],\n",
       "       [ True],\n",
       "       [ True],\n",
       "       [ True],\n",
       "       [ True],\n",
       "       [ True],\n",
       "       [ True],\n",
       "       [ True],\n",
       "       [ True],\n",
       "       [ True],\n",
       "       [ True],\n",
       "       [ True],\n",
       "       [False],\n",
       "       [ True],\n",
       "       [ True],\n",
       "       [False],\n",
       "       [ True],\n",
       "       [False],\n",
       "       [ True],\n",
       "       [ True],\n",
       "       [ True],\n",
       "       [ True],\n",
       "       [ True],\n",
       "       [ True],\n",
       "       [ True],\n",
       "       [ True],\n",
       "       [ True],\n",
       "       [ True],\n",
       "       [ True],\n",
       "       [ True],\n",
       "       [ True],\n",
       "       [ True],\n",
       "       [ True],\n",
       "       [ True],\n",
       "       [ True],\n",
       "       [ True],\n",
       "       [ True],\n",
       "       [ True],\n",
       "       [ True],\n",
       "       [ True],\n",
       "       [ True],\n",
       "       [ True],\n",
       "       [ True],\n",
       "       [ True],\n",
       "       [ True],\n",
       "       [False],\n",
       "       [ True],\n",
       "       [ True],\n",
       "       [ True],\n",
       "       [ True],\n",
       "       [ True],\n",
       "       [ True],\n",
       "       [ True],\n",
       "       [ True],\n",
       "       [ True],\n",
       "       [ True],\n",
       "       [ True],\n",
       "       [ True],\n",
       "       [ True],\n",
       "       [ True],\n",
       "       [ True],\n",
       "       [ True],\n",
       "       [ True],\n",
       "       [ True],\n",
       "       [ True],\n",
       "       [ True],\n",
       "       [False],\n",
       "       [ True],\n",
       "       [ True],\n",
       "       [ True],\n",
       "       [ True],\n",
       "       [ True],\n",
       "       [ True],\n",
       "       [ True],\n",
       "       [ True],\n",
       "       [False],\n",
       "       [False],\n",
       "       [ True],\n",
       "       [ True],\n",
       "       [ True],\n",
       "       [ True],\n",
       "       [ True],\n",
       "       [ True],\n",
       "       [ True],\n",
       "       [ True],\n",
       "       [ True],\n",
       "       [ True],\n",
       "       [ True],\n",
       "       [ True],\n",
       "       [ True],\n",
       "       [ True],\n",
       "       [ True],\n",
       "       [ True],\n",
       "       [ True],\n",
       "       [ True],\n",
       "       [ True],\n",
       "       [ True],\n",
       "       [ True],\n",
       "       [ True],\n",
       "       [ True],\n",
       "       [ True],\n",
       "       [ True],\n",
       "       [ True],\n",
       "       [ True],\n",
       "       [ True],\n",
       "       [ True],\n",
       "       [ True],\n",
       "       [ True],\n",
       "       [ True],\n",
       "       [ True],\n",
       "       [ True],\n",
       "       [ True],\n",
       "       [ True],\n",
       "       [ True],\n",
       "       [ True],\n",
       "       [ True],\n",
       "       [ True],\n",
       "       [ True],\n",
       "       [ True],\n",
       "       [ True],\n",
       "       [False],\n",
       "       [ True],\n",
       "       [ True],\n",
       "       [ True],\n",
       "       [ True],\n",
       "       [ True],\n",
       "       [ True],\n",
       "       [ True],\n",
       "       [ True],\n",
       "       [ True],\n",
       "       [ True],\n",
       "       [ True],\n",
       "       [ True],\n",
       "       [ True],\n",
       "       [ True],\n",
       "       [ True],\n",
       "       [ True],\n",
       "       [ True],\n",
       "       [ True],\n",
       "       [ True],\n",
       "       [ True],\n",
       "       [False],\n",
       "       [ True],\n",
       "       [False],\n",
       "       [ True],\n",
       "       [ True],\n",
       "       [ True],\n",
       "       [ True],\n",
       "       [ True],\n",
       "       [ True],\n",
       "       [ True],\n",
       "       [ True],\n",
       "       [ True],\n",
       "       [ True],\n",
       "       [ True],\n",
       "       [ True],\n",
       "       [ True],\n",
       "       [ True],\n",
       "       [ True],\n",
       "       [ True],\n",
       "       [ True],\n",
       "       [ True],\n",
       "       [ True],\n",
       "       [ True],\n",
       "       [ True],\n",
       "       [ True],\n",
       "       [ True],\n",
       "       [ True],\n",
       "       [ True],\n",
       "       [ True],\n",
       "       [ True],\n",
       "       [ True],\n",
       "       [ True],\n",
       "       [ True],\n",
       "       [ True],\n",
       "       [ True],\n",
       "       [ True],\n",
       "       [ True],\n",
       "       [ True],\n",
       "       [False],\n",
       "       [ True],\n",
       "       [ True],\n",
       "       [ True],\n",
       "       [ True],\n",
       "       [ True],\n",
       "       [False],\n",
       "       [False],\n",
       "       [ True],\n",
       "       [ True],\n",
       "       [ True],\n",
       "       [ True],\n",
       "       [ True],\n",
       "       [ True],\n",
       "       [ True],\n",
       "       [ True],\n",
       "       [ True],\n",
       "       [ True],\n",
       "       [False],\n",
       "       [ True],\n",
       "       [ True],\n",
       "       [ True],\n",
       "       [ True],\n",
       "       [ True],\n",
       "       [ True],\n",
       "       [ True],\n",
       "       [ True],\n",
       "       [False],\n",
       "       [ True],\n",
       "       [ True],\n",
       "       [ True],\n",
       "       [ True],\n",
       "       [ True],\n",
       "       [ True],\n",
       "       [ True],\n",
       "       [ True],\n",
       "       [ True],\n",
       "       [ True],\n",
       "       [ True],\n",
       "       [ True],\n",
       "       [ True],\n",
       "       [False],\n",
       "       [ True],\n",
       "       [ True],\n",
       "       [ True],\n",
       "       [False],\n",
       "       [ True],\n",
       "       [ True],\n",
       "       [ True],\n",
       "       [ True],\n",
       "       [ True],\n",
       "       [ True],\n",
       "       [ True],\n",
       "       [ True],\n",
       "       [ True],\n",
       "       [ True],\n",
       "       [ True],\n",
       "       [ True],\n",
       "       [ True],\n",
       "       [ True],\n",
       "       [False],\n",
       "       [ True],\n",
       "       [ True],\n",
       "       [ True],\n",
       "       [ True],\n",
       "       [ True],\n",
       "       [ True],\n",
       "       [ True],\n",
       "       [ True],\n",
       "       [ True],\n",
       "       [ True],\n",
       "       [ True],\n",
       "       [ True],\n",
       "       [ True],\n",
       "       [ True],\n",
       "       [ True],\n",
       "       [ True],\n",
       "       [ True],\n",
       "       [ True],\n",
       "       [ True],\n",
       "       [ True],\n",
       "       [ True],\n",
       "       [ True],\n",
       "       [False],\n",
       "       [ True],\n",
       "       [ True],\n",
       "       [ True],\n",
       "       [ True],\n",
       "       [ True],\n",
       "       [ True],\n",
       "       [ True],\n",
       "       [ True],\n",
       "       [ True],\n",
       "       [False],\n",
       "       [ True],\n",
       "       [ True],\n",
       "       [ True],\n",
       "       [ True],\n",
       "       [ True],\n",
       "       [False],\n",
       "       [ True],\n",
       "       [ True],\n",
       "       [ True],\n",
       "       [ True],\n",
       "       [ True],\n",
       "       [ True],\n",
       "       [ True],\n",
       "       [ True],\n",
       "       [ True],\n",
       "       [ True],\n",
       "       [ True],\n",
       "       [ True],\n",
       "       [False],\n",
       "       [ True],\n",
       "       [ True],\n",
       "       [False],\n",
       "       [ True],\n",
       "       [ True],\n",
       "       [ True],\n",
       "       [ True],\n",
       "       [ True],\n",
       "       [ True],\n",
       "       [ True],\n",
       "       [ True],\n",
       "       [ True],\n",
       "       [False],\n",
       "       [ True],\n",
       "       [ True],\n",
       "       [ True],\n",
       "       [ True],\n",
       "       [ True],\n",
       "       [ True],\n",
       "       [ True],\n",
       "       [ True],\n",
       "       [ True],\n",
       "       [ True],\n",
       "       [ True],\n",
       "       [ True],\n",
       "       [ True],\n",
       "       [ True],\n",
       "       [ True],\n",
       "       [ True],\n",
       "       [ True],\n",
       "       [ True],\n",
       "       [ True],\n",
       "       [ True],\n",
       "       [ True],\n",
       "       [ True],\n",
       "       [ True],\n",
       "       [ True],\n",
       "       [ True],\n",
       "       [ True],\n",
       "       [ True],\n",
       "       [ True],\n",
       "       [ True],\n",
       "       [ True],\n",
       "       [ True],\n",
       "       [ True],\n",
       "       [ True],\n",
       "       [ True],\n",
       "       [ True],\n",
       "       [ True],\n",
       "       [False],\n",
       "       [ True],\n",
       "       [ True],\n",
       "       [False],\n",
       "       [ True],\n",
       "       [ True],\n",
       "       [ True],\n",
       "       [ True],\n",
       "       [ True],\n",
       "       [ True],\n",
       "       [ True],\n",
       "       [ True],\n",
       "       [ True],\n",
       "       [False],\n",
       "       [ True],\n",
       "       [ True],\n",
       "       [ True],\n",
       "       [ True],\n",
       "       [ True],\n",
       "       [ True],\n",
       "       [ True],\n",
       "       [ True],\n",
       "       [ True],\n",
       "       [ True],\n",
       "       [ True],\n",
       "       [ True],\n",
       "       [ True],\n",
       "       [ True],\n",
       "       [ True],\n",
       "       [ True],\n",
       "       [ True],\n",
       "       [ True],\n",
       "       [ True],\n",
       "       [ True],\n",
       "       [ True],\n",
       "       [ True],\n",
       "       [ True],\n",
       "       [False],\n",
       "       [ True],\n",
       "       [False],\n",
       "       [ True],\n",
       "       [ True],\n",
       "       [ True],\n",
       "       [ True],\n",
       "       [ True],\n",
       "       [ True],\n",
       "       [ True],\n",
       "       [ True],\n",
       "       [ True],\n",
       "       [ True],\n",
       "       [ True],\n",
       "       [ True],\n",
       "       [ True],\n",
       "       [ True],\n",
       "       [ True],\n",
       "       [ True],\n",
       "       [ True],\n",
       "       [ True],\n",
       "       [ True],\n",
       "       [ True],\n",
       "       [ True],\n",
       "       [ True],\n",
       "       [ True],\n",
       "       [ True],\n",
       "       [ True],\n",
       "       [ True],\n",
       "       [ True],\n",
       "       [ True],\n",
       "       [ True],\n",
       "       [ True],\n",
       "       [ True],\n",
       "       [ True],\n",
       "       [ True],\n",
       "       [ True],\n",
       "       [ True],\n",
       "       [ True],\n",
       "       [ True],\n",
       "       [ True],\n",
       "       [ True],\n",
       "       [ True],\n",
       "       [ True],\n",
       "       [ True],\n",
       "       [ True],\n",
       "       [ True],\n",
       "       [ True],\n",
       "       [ True],\n",
       "       [ True],\n",
       "       [ True],\n",
       "       [ True],\n",
       "       [ True],\n",
       "       [ True],\n",
       "       [False],\n",
       "       [ True],\n",
       "       [ True],\n",
       "       [ True],\n",
       "       [ True],\n",
       "       [ True],\n",
       "       [ True],\n",
       "       [ True],\n",
       "       [ True],\n",
       "       [ True],\n",
       "       [ True],\n",
       "       [ True],\n",
       "       [ True],\n",
       "       [ True],\n",
       "       [ True],\n",
       "       [ True],\n",
       "       [ True],\n",
       "       [False],\n",
       "       [False],\n",
       "       [ True],\n",
       "       [ True],\n",
       "       [False],\n",
       "       [ True],\n",
       "       [ True],\n",
       "       [False],\n",
       "       [ True],\n",
       "       [ True],\n",
       "       [ True],\n",
       "       [ True],\n",
       "       [ True],\n",
       "       [ True],\n",
       "       [ True],\n",
       "       [ True],\n",
       "       [ True],\n",
       "       [ True],\n",
       "       [ True],\n",
       "       [ True],\n",
       "       [ True],\n",
       "       [ True],\n",
       "       [ True],\n",
       "       [ True],\n",
       "       [ True],\n",
       "       [ True],\n",
       "       [ True],\n",
       "       [ True],\n",
       "       [ True],\n",
       "       [ True],\n",
       "       [ True],\n",
       "       [ True],\n",
       "       [ True],\n",
       "       [ True],\n",
       "       [ True],\n",
       "       [ True],\n",
       "       [ True],\n",
       "       [ True],\n",
       "       [ True],\n",
       "       [ True],\n",
       "       [ True],\n",
       "       [ True],\n",
       "       [ True],\n",
       "       [ True],\n",
       "       [ True],\n",
       "       [ True],\n",
       "       [ True],\n",
       "       [ True],\n",
       "       [ True],\n",
       "       [ True],\n",
       "       [ True],\n",
       "       [ True],\n",
       "       [ True],\n",
       "       [ True],\n",
       "       [ True],\n",
       "       [ True],\n",
       "       [ True],\n",
       "       [ True],\n",
       "       [ True],\n",
       "       [ True],\n",
       "       [ True],\n",
       "       [ True],\n",
       "       [ True],\n",
       "       [ True],\n",
       "       [ True],\n",
       "       [ True],\n",
       "       [ True],\n",
       "       [ True],\n",
       "       [ True],\n",
       "       [ True],\n",
       "       [ True],\n",
       "       [ True],\n",
       "       [ True],\n",
       "       [ True],\n",
       "       [ True],\n",
       "       [ True],\n",
       "       [ True],\n",
       "       [ True],\n",
       "       [ True],\n",
       "       [ True],\n",
       "       [ True],\n",
       "       [ True],\n",
       "       [ True],\n",
       "       [ True],\n",
       "       [ True],\n",
       "       [ True],\n",
       "       [ True],\n",
       "       [ True],\n",
       "       [ True],\n",
       "       [ True],\n",
       "       [ True],\n",
       "       [ True],\n",
       "       [ True],\n",
       "       [ True],\n",
       "       [ True],\n",
       "       [ True],\n",
       "       [ True],\n",
       "       [ True],\n",
       "       [ True],\n",
       "       [ True],\n",
       "       [ True],\n",
       "       [ True],\n",
       "       [ True],\n",
       "       [ True],\n",
       "       [ True],\n",
       "       [ True],\n",
       "       [ True],\n",
       "       [ True],\n",
       "       [ True],\n",
       "       [ True],\n",
       "       [ True],\n",
       "       [ True],\n",
       "       [ True],\n",
       "       [False],\n",
       "       [ True],\n",
       "       [ True],\n",
       "       [ True],\n",
       "       [ True],\n",
       "       [False],\n",
       "       [ True],\n",
       "       [ True],\n",
       "       [ True],\n",
       "       [ True],\n",
       "       [ True],\n",
       "       [ True],\n",
       "       [False],\n",
       "       [ True],\n",
       "       [False],\n",
       "       [ True],\n",
       "       [ True],\n",
       "       [ True],\n",
       "       [ True],\n",
       "       [ True],\n",
       "       [ True],\n",
       "       [ True],\n",
       "       [ True],\n",
       "       [ True],\n",
       "       [False],\n",
       "       [ True],\n",
       "       [ True],\n",
       "       [ True],\n",
       "       [False],\n",
       "       [ True],\n",
       "       [ True]])"
      ]
     },
     "execution_count": 39,
     "metadata": {},
     "output_type": "execute_result"
    }
   ],
   "source": [
    "predictions"
   ]
  },
  {
   "cell_type": "code",
   "execution_count": 40,
   "metadata": {},
   "outputs": [
    {
     "data": {
      "text/plain": [
       "array([[ 16, 218],\n",
       "       [ 26, 364]], dtype=int64)"
      ]
     },
     "execution_count": 40,
     "metadata": {},
     "output_type": "execute_result"
    }
   ],
   "source": [
    "confusion_matrix(y_true,predictions)"
   ]
  },
  {
   "cell_type": "markdown",
   "metadata": {},
   "source": [
    "## 6.Predicting Single Image"
   ]
  },
  {
   "cell_type": "code",
   "execution_count": 41,
   "metadata": {
    "scrolled": true
   },
   "outputs": [
    {
     "data": {
      "text/plain": [
       "'person10_virus_35.jpeg'"
      ]
     },
     "execution_count": 41,
     "metadata": {},
     "output_type": "execute_result"
    }
   ],
   "source": [
    "os.listdir(test_path + '/PNEUMONIA')[30]"
   ]
  },
  {
   "cell_type": "code",
   "execution_count": 42,
   "metadata": {},
   "outputs": [
    {
     "data": {
      "text/plain": [
       "'/Users/b5061/Desktop/Sinica/chest_xray//test/PNEUMONIA/person86_bacteria_429.jpeg'"
      ]
     },
     "execution_count": 42,
     "metadata": {},
     "output_type": "execute_result"
    }
   ],
   "source": [
    "example = test_path + '/PNEUMONIA' + '/person86_bacteria_429.jpeg'\n",
    "example"
   ]
  },
  {
   "cell_type": "code",
   "execution_count": 43,
   "metadata": {},
   "outputs": [
    {
     "data": {
      "image/png": "[encoded data removed]",
      "text/plain": [
       "<PIL.Image.Image image mode=L size=224x224 at 0x1B5F57841F0>"
      ]
     },
     "execution_count": 43,
     "metadata": {},
     "output_type": "execute_result"
    }
   ],
   "source": [
    "my_image = image.load_img(example,color_mode='grayscale',target_size=(224,224,1))\n",
    "my_image"
   ]
  },
  {
   "cell_type": "code",
   "execution_count": 44,
   "metadata": {},
   "outputs": [
    {
     "data": {
      "text/plain": [
       "PIL.Image.Image"
      ]
     },
     "execution_count": 44,
     "metadata": {},
     "output_type": "execute_result"
    }
   ],
   "source": [
    "type(my_image)"
   ]
  },
  {
   "cell_type": "code",
   "execution_count": 45,
   "metadata": {},
   "outputs": [],
   "source": [
    "my_image = image.img_to_array(my_image)"
   ]
  },
  {
   "cell_type": "code",
   "execution_count": 46,
   "metadata": {},
   "outputs": [
    {
     "data": {
      "text/plain": [
       "numpy.ndarray"
      ]
     },
     "execution_count": 46,
     "metadata": {},
     "output_type": "execute_result"
    }
   ],
   "source": [
    "type(my_image)"
   ]
  },
  {
   "cell_type": "code",
   "execution_count": 47,
   "metadata": {},
   "outputs": [
    {
     "data": {
      "text/plain": [
       "(224, 224, 1)"
      ]
     },
     "execution_count": 47,
     "metadata": {},
     "output_type": "execute_result"
    }
   ],
   "source": [
    "my_image.shape"
   ]
  },
  {
   "cell_type": "code",
   "execution_count": 48,
   "metadata": {},
   "outputs": [
    {
     "data": {
      "text/plain": [
       "(1, 224, 224, 1)"
      ]
     },
     "execution_count": 48,
     "metadata": {},
     "output_type": "execute_result"
    }
   ],
   "source": [
    "my_image = np.expand_dims(my_image, axis=0)\n",
    "my_image.shape"
   ]
  },
  {
   "cell_type": "code",
   "execution_count": 49,
   "metadata": {},
   "outputs": [
    {
     "data": {
      "text/plain": [
       "array([[1.]], dtype=float32)"
      ]
     },
     "execution_count": 49,
     "metadata": {},
     "output_type": "execute_result"
    }
   ],
   "source": [
    "model.predict(my_image)"
   ]
  },
  {
   "cell_type": "code",
   "execution_count": 50,
   "metadata": {},
   "outputs": [
    {
     "data": {
      "text/plain": [
       "{'NORMAL': 0, 'PNEUMONIA': 1}"
      ]
     },
     "execution_count": 50,
     "metadata": {},
     "output_type": "execute_result"
    }
   ],
   "source": [
    "test_img_gen.class_indices"
   ]
  }
 ],
 "metadata": {
  "kernelspec": {
   "display_name": "Python 3",
   "language": "python",
   "name": "python3"
  },
  "language_info": {
   "codemirror_mode": {
    "name": "ipython",
    "version": 3
   },
   "file_extension": ".py",
   "mimetype": "text/x-python",
   "name": "python",
   "nbconvert_exporter": "python",
   "pygments_lexer": "ipython3",
   "version": "3.8.3"
  }
 },
 "nbformat": 4,
 "nbformat_minor": 4
}
