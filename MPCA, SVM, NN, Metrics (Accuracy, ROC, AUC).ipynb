{
 "cells": [
  {
   "cell_type": "markdown",
   "metadata": {},
   "source": [
    "# MPCA, SVM, NN, Metrics (Accuracy, ROC, AUC)"
   ]
  },
  {
   "cell_type": "code",
   "execution_count": 1,
   "metadata": {},
   "outputs": [],
   "source": [
    "import os;\n",
    "import tensorflow as tf;\n",
    "import numpy as np;\n",
    "import matplotlib.pyplot as plt;\n",
    "import sklearn;\n",
    "from sklearn import svm;\n",
    "from sklearn import metrics;\n",
    "os.environ['KMP_DUPLICATE_LIB_OK']='True'; # for MAC"
   ]
  },
  {
   "cell_type": "code",
   "execution_count": 2,
   "metadata": {},
   "outputs": [],
   "source": [
    "# function\n",
    "def unfold(X, k):\n",
    "    # X: p1,p2,n\n",
    "    n= X.shape[0];\n",
    "    p1 = X.shape[1];\n",
    "    p2 = X.shape[2];\n",
    "    if k == 0:\n",
    "        X = np.transpose(X,(1,2,0));\n",
    "        Xk = np.reshape(X, [p1,n * p2],order='F')\n",
    "    else:\n",
    "        X = np.transpose(X,(2,1,0));\n",
    "        Xk = np.reshape(X, [p2, p1*n],order='F')\n",
    "    return Xk;"
   ]
  },
  {
   "cell_type": "code",
   "execution_count": 3,
   "metadata": {},
   "outputs": [
    {
     "name": "stdout",
     "output_type": "stream",
     "text": [
      "Found 5216 images belonging to 2 classes.\n",
      "Found 16 images belonging to 2 classes.\n",
      "Found 624 images belonging to 2 classes.\n"
     ]
    }
   ],
   "source": [
    "# load data\n",
    "imgX = 224;\n",
    "imgY = 224;\n",
    "train_datagen = tf.keras.preprocessing.image.ImageDataGenerator(\n",
    "    rescale=1./255,\n",
    "    #width_shift_range=0.05,\n",
    "    #height_shift_range=0.15,\n",
    "    #rotation_range=10,\n",
    "    #zoom_range=0.1,\n",
    ")\n",
    "validation_datagen = tf.keras.preprocessing.image.ImageDataGenerator(rescale=1./255)\n",
    "test_datagen = tf.keras.preprocessing.image.ImageDataGenerator(rescale=1./255)\n",
    "\n",
    "train_generator = train_datagen.flow_from_directory(\n",
    "    \"/Users/b5061/Desktop/Sinica/chest_xray/train\",\n",
    "    target_size=(imgX,imgY),\n",
    "    batch_size=5216, # 5216\n",
    "    class_mode=\"binary\", # input --> if unsupervised training\n",
    "    color_mode=\"grayscale\",\n",
    "    shuffle=True,\n",
    ")\n",
    " \n",
    "validation_generator = validation_datagen.flow_from_directory(\n",
    "    \"/Users/b5061/Desktop/Sinica/chest_xray/val\",\n",
    "    target_size=(imgX,imgY),\n",
    "    class_mode=\"binary\",\n",
    "    color_mode=\"grayscale\",\n",
    "    shuffle=False,\n",
    "    batch_size=16,\n",
    ")\n",
    "test_generator = test_datagen.flow_from_directory(\n",
    "    \"/Users/b5061/Desktop/Sinica/chest_xray/test\",\n",
    "    target_size=(imgX,imgY),\n",
    "    class_mode=\"binary\",\n",
    "    color_mode=\"grayscale\",\n",
    "    shuffle=False,\n",
    "    batch_size=624,\n",
    ")\n",
    "# num classes\n",
    "num_classes = 2;\n",
    "# X: 5216 x 224 x 224 x 1"
   ]
  },
  {
   "cell_type": "code",
   "execution_count": 4,
   "metadata": {},
   "outputs": [],
   "source": [
    "q1 = 10;\n",
    "q2 = 10;"
   ]
  },
  {
   "cell_type": "code",
   "execution_count": 5,
   "metadata": {},
   "outputs": [
    {
     "name": "stdout",
     "output_type": "stream",
     "text": [
      "size of X:\n",
      "(5216, 224, 224)\n"
     ]
    }
   ],
   "source": [
    "# Training data\n",
    "X,Y = train_generator.next();\n",
    "X = np.reshape(X,[X.shape[0], X.shape[1], X.shape[2]]); # reshape to n x p1 x p2\n",
    "print('size of X:')\n",
    "print(X.shape);\n",
    "n = X.shape[0];\n",
    "p1 = X.shape[1];\n",
    "p2 = X.shape[2];"
   ]
  },
  {
   "cell_type": "code",
   "execution_count": 6,
   "metadata": {},
   "outputs": [
    {
     "name": "stdout",
     "output_type": "stream",
     "text": [
      "size of Xtest:\n",
      "(624, 224, 224)\n"
     ]
    }
   ],
   "source": [
    "# Testing data\n",
    "Xtest, Ytest = test_generator.next();\n",
    "m = Xtest.shape[0];\n",
    "Xtest = np.reshape(Xtest, [m, p1, p2]);\n",
    "print('size of Xtest:');\n",
    "print(Xtest.shape);"
   ]
  },
  {
   "cell_type": "code",
   "execution_count": 7,
   "metadata": {},
   "outputs": [
    {
     "name": "stdout",
     "output_type": "stream",
     "text": [
      "size of X(1) and X(2):\n",
      "(224, 1168384)\n",
      "(224, 1168384)\n",
      "size of A and B:\n",
      "(224, 10)\n",
      "(224, 10)\n"
     ]
    }
   ],
   "source": [
    "# HOSVD\n",
    "X1 = unfold(X,0); # p x nq; X_{(col)}\n",
    "X2 = unfold(X,1); # p x nq; X_{(row)}\n",
    "print('size of X(1) and X(2):')\n",
    "print(X1.shape);\n",
    "print(X2.shape);\n",
    "U1, S1, V1 = np.linalg.svd(X1 @ X1.T); # size p x p matrix SVD\n",
    "U2, S2, V2 = np.linalg.svd(X2 @ X2.T); # size q x q matrix SVD\n",
    "A = U1[:,0:q1];\n",
    "B = U2[:,0:q2];\n",
    "print('size of A and B:')\n",
    "print(A.shape);\n",
    "print(B.shape);"
   ]
  },
  {
   "cell_type": "code",
   "execution_count": 8,
   "metadata": {},
   "outputs": [
    {
     "name": "stdout",
     "output_type": "stream",
     "text": [
      "253.14383\n",
      "253.14319\n",
      "253.14319\n"
     ]
    }
   ],
   "source": [
    "# GLRAM:\n",
    "count = 3; # num of iterations\n",
    "for i in range(count):\n",
    "    # update A\n",
    "    Bn = np.expand_dims(B,0) # --> [1,p2,q2]\n",
    "    Bn = np.tile(Bn,[n,1,1]); # --> [n,p2,q2]\n",
    "    XB = np.matmul(X,Bn); # --> [n,p1,q2]\n",
    "    XB2 = unfold(XB,0); # --> [p1,n*q2]\n",
    "    U1,S1,V1 = np.linalg.svd(XB2 @ XB2.T)\n",
    "    A = U1[:,0:q1];\n",
    "    \n",
    "    # update B\n",
    "    ATn = np.expand_dims(A.T,0) # --> [1,q1,p1]\n",
    "    ATn = np.tile(ATn,[n,1,1]); # --> [n,q1,p1]\n",
    "    AX = np.matmul(ATn,X); # --> [n,q1,p2]\n",
    "    AX1 = unfold(AX,1); # --> [p2,n*q1]\n",
    "    U2,S2,V2 = np.linalg.svd(AX1 @ AX1.T)\n",
    "    B = U2[:,0:q2];\n",
    "    \n",
    "    # compute reconstruction error\n",
    "    AATn = np.expand_dims(A @ A.T,0);\n",
    "    AATn = np.tile(AATn,[n,1,1]);\n",
    "    BBTn = np.expand_dims(B @ B.T,0);\n",
    "    BBTn = np.tile(BBTn,[n,1,1]);\n",
    "    X_ = AATn @ X @ BBTn;\n",
    "    error = np.sum(np.sum(np.square(X-X_),axis=1),axis=1);\n",
    "    print(np.mean(error));"
   ]
  },
  {
   "cell_type": "code",
   "execution_count": 9,
   "metadata": {},
   "outputs": [
    {
     "name": "stdout",
     "output_type": "stream",
     "text": [
      "size of Xlow and Xtest_low:\n",
      "(5216, 10, 10)\n",
      "(624, 10, 10)\n"
     ]
    }
   ],
   "source": [
    "# Dimension reduction (Testing data & Training data)\n",
    "An = np.expand_dims(A, 0); # --> [1,p1,q1]\n",
    "An = np.tile(An, [n,1,1]); # --> [n,p1,q1]\n",
    "AnT = np.transpose(An, (0,2,1)); # --> [n,q1,p1]\n",
    "Bn = np.expand_dims(B,0); # --> [1,p1,q1]\n",
    "Bn = np.tile(Bn, [n,1,1]); # --> [n,p1,q1]\n",
    "Xlow = AnT @ X @ Bn; # --> [n,q1,q2]\n",
    "# \n",
    "Am = np.expand_dims(A, 0); # --> [1,p1,q1]\n",
    "Am = np.tile(Am, [m,1,1]); # --> [n,p1,q1]\n",
    "AmT = np.transpose(Am, (0,2,1)); # --> [n,q1,p1]\n",
    "Bm = np.expand_dims(B,0); # --> [1,p1,q1]\n",
    "Bm = np.tile(Bm, [m,1,1]); # --> [n,p1,q1]\n",
    "Xtest_low = AmT @ Xtest @ Bm; # --> [n,q1,q2]\n",
    "#\n",
    "print('size of Xlow and Xtest_low:');\n",
    "print(Xlow.shape);\n",
    "print(Xtest_low.shape);"
   ]
  },
  {
   "cell_type": "code",
   "execution_count": 11,
   "metadata": {},
   "outputs": [],
   "source": [
    "# Reconstruction (Testing data)\n",
    "AATm = np.expand_dims(A @ A.T, 0);\n",
    "BBTm = np.expand_dims(B @ B.T, 0);\n",
    "AATm = np.tile(AATm,[m,1,1]);\n",
    "BBTm = np.tile(BBTm,[m,1,1]);\n",
    "Xtest_reconst = AATm @ Xtest @ BBTm;"
   ]
  },
  {
   "cell_type": "markdown",
   "metadata": {},
   "source": [
    "### SVM classifier"
   ]
  },
  {
   "cell_type": "code",
   "execution_count": 13,
   "metadata": {},
   "outputs": [],
   "source": [
    "Xlow_vec = np.reshape(Xlow, [n,q1*q2], order='F');\n",
    "Xtest_low_vec = np.reshape(Xtest_low, [m, q1*q2], order='F');"
   ]
  },
  {
   "cell_type": "code",
   "execution_count": 14,
   "metadata": {},
   "outputs": [
    {
     "name": "stdout",
     "output_type": "stream",
     "text": [
      "0.7435897435897436\n",
      "0.7644230769230769\n"
     ]
    }
   ],
   "source": [
    "mysvm = svm.SVC(kernel='linear', C=1);  \n",
    "mysvm.fit(Xlow_vec, Y);\n",
    "Ytest_predict = mysvm.predict(Xtest_low_vec); # prediction\n",
    "svm_accuracy = np.sum(Ytest == Ytest_predict) / m;\n",
    "print(svm_accuracy);\n",
    "\n",
    "mysvm2 = svm.SVC(kernel='rbf', C=1); # gamma = default for 'rbf'\n",
    "mysvm2.fit(Xlow_vec, Y);\n",
    "Ytest_predict = mysvm2.predict(Xtest_low_vec); # prediction\n",
    "svm_accuracy = np.sum(Ytest == Ytest_predict) / m;\n",
    "print(svm_accuracy);"
   ]
  },
  {
   "cell_type": "code",
   "execution_count": 15,
   "metadata": {},
   "outputs": [
    {
     "name": "stdout",
     "output_type": "stream",
     "text": [
      "Epoch 1/50\n",
      "21/21 [==============================] - 0s 9ms/step - loss: 0.7183 - accuracy: 0.5993 - val_loss: 1.1602 - val_accuracy: 0.6410\n",
      "Epoch 2/50\n",
      "21/21 [==============================] - 0s 2ms/step - loss: 0.5378 - accuracy: 0.7462 - val_loss: 0.7999 - val_accuracy: 0.6506\n",
      "Epoch 3/50\n",
      "21/21 [==============================] - 0s 2ms/step - loss: 0.4294 - accuracy: 0.8236 - val_loss: 0.6725 - val_accuracy: 0.6875\n",
      "Epoch 4/50\n",
      "21/21 [==============================] - 0s 2ms/step - loss: 0.3528 - accuracy: 0.8691 - val_loss: 0.6218 - val_accuracy: 0.6987\n",
      "Epoch 5/50\n",
      "21/21 [==============================] - 0s 2ms/step - loss: 0.2982 - accuracy: 0.8949 - val_loss: 0.5995 - val_accuracy: 0.7099\n",
      "Epoch 6/50\n",
      "21/21 [==============================] - 0s 2ms/step - loss: 0.2587 - accuracy: 0.9120 - val_loss: 0.5947 - val_accuracy: 0.7212\n",
      "Epoch 7/50\n",
      "21/21 [==============================] - 0s 2ms/step - loss: 0.2301 - accuracy: 0.9218 - val_loss: 0.5946 - val_accuracy: 0.7260\n",
      "Epoch 8/50\n",
      "21/21 [==============================] - 0s 2ms/step - loss: 0.2088 - accuracy: 0.9289 - val_loss: 0.6040 - val_accuracy: 0.7340\n",
      "Epoch 9/50\n",
      "21/21 [==============================] - 0s 2ms/step - loss: 0.1947 - accuracy: 0.9317 - val_loss: 0.6099 - val_accuracy: 0.7356\n",
      "Epoch 10/50\n",
      "21/21 [==============================] - 0s 2ms/step - loss: 0.1815 - accuracy: 0.9352 - val_loss: 0.6199 - val_accuracy: 0.7388\n",
      "Epoch 11/50\n",
      "21/21 [==============================] - 0s 2ms/step - loss: 0.1704 - accuracy: 0.9410 - val_loss: 0.6267 - val_accuracy: 0.7388\n",
      "Epoch 12/50\n",
      "21/21 [==============================] - 0s 2ms/step - loss: 0.1633 - accuracy: 0.9402 - val_loss: 0.6312 - val_accuracy: 0.7436\n",
      "Epoch 13/50\n",
      "21/21 [==============================] - 0s 2ms/step - loss: 0.1566 - accuracy: 0.9438 - val_loss: 0.6470 - val_accuracy: 0.7436\n",
      "Epoch 14/50\n",
      "21/21 [==============================] - 0s 2ms/step - loss: 0.1517 - accuracy: 0.9477 - val_loss: 0.6516 - val_accuracy: 0.7436\n",
      "Epoch 15/50\n",
      "21/21 [==============================] - 0s 2ms/step - loss: 0.1466 - accuracy: 0.9482 - val_loss: 0.6586 - val_accuracy: 0.7420\n",
      "Epoch 16/50\n",
      "21/21 [==============================] - 0s 2ms/step - loss: 0.1431 - accuracy: 0.9494 - val_loss: 0.6733 - val_accuracy: 0.7372\n",
      "Epoch 17/50\n",
      "21/21 [==============================] - 0s 2ms/step - loss: 0.1376 - accuracy: 0.9507 - val_loss: 0.6736 - val_accuracy: 0.7388\n",
      "Epoch 18/50\n",
      "21/21 [==============================] - 0s 2ms/step - loss: 0.1366 - accuracy: 0.9521 - val_loss: 0.6834 - val_accuracy: 0.7372\n",
      "Epoch 19/50\n",
      "21/21 [==============================] - 0s 2ms/step - loss: 0.1352 - accuracy: 0.9496 - val_loss: 0.6899 - val_accuracy: 0.7404\n",
      "Epoch 20/50\n",
      "21/21 [==============================] - 0s 2ms/step - loss: 0.1302 - accuracy: 0.9546 - val_loss: 0.6940 - val_accuracy: 0.7404\n",
      "Epoch 21/50\n",
      "21/21 [==============================] - 0s 2ms/step - loss: 0.1289 - accuracy: 0.9534 - val_loss: 0.7117 - val_accuracy: 0.7404\n",
      "Epoch 22/50\n",
      "21/21 [==============================] - 0s 2ms/step - loss: 0.1275 - accuracy: 0.9544 - val_loss: 0.7055 - val_accuracy: 0.7452\n",
      "Epoch 23/50\n",
      "21/21 [==============================] - 0s 2ms/step - loss: 0.1255 - accuracy: 0.9553 - val_loss: 0.7092 - val_accuracy: 0.7484\n",
      "Epoch 24/50\n",
      "21/21 [==============================] - 0s 2ms/step - loss: 0.1259 - accuracy: 0.9555 - val_loss: 0.7119 - val_accuracy: 0.7500\n",
      "Epoch 25/50\n",
      "21/21 [==============================] - 0s 2ms/step - loss: 0.1229 - accuracy: 0.9571 - val_loss: 0.7170 - val_accuracy: 0.7532\n",
      "Epoch 26/50\n",
      "21/21 [==============================] - 0s 2ms/step - loss: 0.1220 - accuracy: 0.9553 - val_loss: 0.7238 - val_accuracy: 0.7532\n",
      "Epoch 27/50\n",
      "21/21 [==============================] - 0s 2ms/step - loss: 0.1202 - accuracy: 0.9571 - val_loss: 0.7324 - val_accuracy: 0.7532\n",
      "Epoch 28/50\n",
      "21/21 [==============================] - 0s 2ms/step - loss: 0.1194 - accuracy: 0.9553 - val_loss: 0.7351 - val_accuracy: 0.7564\n",
      "Epoch 29/50\n",
      "21/21 [==============================] - 0s 2ms/step - loss: 0.1182 - accuracy: 0.9586 - val_loss: 0.7462 - val_accuracy: 0.7532\n",
      "Epoch 30/50\n",
      "21/21 [==============================] - 0s 2ms/step - loss: 0.1166 - accuracy: 0.9584 - val_loss: 0.7578 - val_accuracy: 0.7532\n",
      "Epoch 31/50\n",
      "21/21 [==============================] - 0s 2ms/step - loss: 0.1182 - accuracy: 0.9572 - val_loss: 0.7531 - val_accuracy: 0.7548\n",
      "Epoch 32/50\n",
      "21/21 [==============================] - 0s 2ms/step - loss: 0.1196 - accuracy: 0.9557 - val_loss: 0.7513 - val_accuracy: 0.7564\n",
      "Epoch 33/50\n",
      "21/21 [==============================] - 0s 2ms/step - loss: 0.1154 - accuracy: 0.9595 - val_loss: 0.7561 - val_accuracy: 0.7580\n",
      "Epoch 34/50\n",
      "21/21 [==============================] - 0s 2ms/step - loss: 0.1155 - accuracy: 0.9592 - val_loss: 0.7647 - val_accuracy: 0.7564\n",
      "Epoch 35/50\n",
      "21/21 [==============================] - 0s 2ms/step - loss: 0.1137 - accuracy: 0.9605 - val_loss: 0.7670 - val_accuracy: 0.7580\n",
      "Epoch 36/50\n",
      "21/21 [==============================] - 0s 2ms/step - loss: 0.1136 - accuracy: 0.9590 - val_loss: 0.7729 - val_accuracy: 0.7580\n",
      "Epoch 37/50\n",
      "21/21 [==============================] - 0s 2ms/step - loss: 0.1129 - accuracy: 0.9603 - val_loss: 0.7836 - val_accuracy: 0.7564\n",
      "Epoch 38/50\n",
      "21/21 [==============================] - 0s 2ms/step - loss: 0.1141 - accuracy: 0.9586 - val_loss: 0.7732 - val_accuracy: 0.7580\n",
      "Epoch 39/50\n",
      "21/21 [==============================] - 0s 2ms/step - loss: 0.1113 - accuracy: 0.9597 - val_loss: 0.7849 - val_accuracy: 0.7564\n",
      "Epoch 40/50\n",
      "21/21 [==============================] - 0s 2ms/step - loss: 0.1110 - accuracy: 0.9605 - val_loss: 0.7960 - val_accuracy: 0.7580\n",
      "Epoch 41/50\n",
      "21/21 [==============================] - 0s 2ms/step - loss: 0.1105 - accuracy: 0.9601 - val_loss: 0.7980 - val_accuracy: 0.7580\n",
      "Epoch 42/50\n",
      "21/21 [==============================] - 0s 2ms/step - loss: 0.1107 - accuracy: 0.9597 - val_loss: 0.7944 - val_accuracy: 0.7580\n",
      "Epoch 43/50\n",
      "21/21 [==============================] - 0s 2ms/step - loss: 0.1094 - accuracy: 0.9613 - val_loss: 0.7930 - val_accuracy: 0.7580\n",
      "Epoch 44/50\n",
      "21/21 [==============================] - 0s 2ms/step - loss: 0.1099 - accuracy: 0.9601 - val_loss: 0.7947 - val_accuracy: 0.7580\n",
      "Epoch 45/50\n",
      "21/21 [==============================] - 0s 2ms/step - loss: 0.1120 - accuracy: 0.9595 - val_loss: 0.7918 - val_accuracy: 0.7580\n",
      "Epoch 46/50\n",
      "21/21 [==============================] - 0s 2ms/step - loss: 0.1097 - accuracy: 0.9597 - val_loss: 0.7995 - val_accuracy: 0.7580\n",
      "Epoch 47/50\n",
      "21/21 [==============================] - 0s 2ms/step - loss: 0.1083 - accuracy: 0.9603 - val_loss: 0.7987 - val_accuracy: 0.7580\n",
      "Epoch 48/50\n",
      "21/21 [==============================] - 0s 2ms/step - loss: 0.1093 - accuracy: 0.9611 - val_loss: 0.8118 - val_accuracy: 0.7580\n",
      "Epoch 49/50\n",
      "21/21 [==============================] - 0s 2ms/step - loss: 0.1077 - accuracy: 0.9601 - val_loss: 0.8077 - val_accuracy: 0.7580\n",
      "Epoch 50/50\n",
      "21/21 [==============================] - 0s 2ms/step - loss: 0.1079 - accuracy: 0.9601 - val_loss: 0.8041 - val_accuracy: 0.7596\n"
     ]
    }
   ],
   "source": [
    "# logistic via NN\n",
    "model = tf.keras.Sequential()\n",
    "model.add(tf.keras.layers.BatchNormalization(axis=-1, momentum=0.99, epsilon=0.001, center=True, scale=True, beta_initializer='zeros', gamma_initializer='ones', moving_mean_initializer='zeros', moving_variance_initializer='ones'));\n",
    "model.add(tf.keras.layers.Dense(1, activation='sigmoid', input_shape=(q1*q2,)))\n",
    "model.compile(loss='binary_crossentropy',optimizer='RMSprop',metrics=['accuracy'])\n",
    "history = model.fit(Xlow_vec, Y, batch_size=250, epochs=50, verbose=1, validation_data=(Xtest_low_vec, Ytest))"
   ]
  },
  {
   "cell_type": "markdown",
   "metadata": {},
   "source": [
    "### Neural Network classifier"
   ]
  },
  {
   "cell_type": "code",
   "execution_count": 17,
   "metadata": {},
   "outputs": [],
   "source": [
    "#y_train = tf.keras.utils.to_categorical(Y, num_classes)\n",
    "#y_test = tf.keras.utils.to_categorical(Ytest, num_classes)"
   ]
  },
  {
   "cell_type": "code",
   "execution_count": 18,
   "metadata": {},
   "outputs": [
    {
     "name": "stdout",
     "output_type": "stream",
     "text": [
      "Epoch 1/50\n",
      "21/21 [==============================] - 0s 13ms/step - loss: 0.6948 - accuracy: 0.5957 - auc: 0.7460 - val_loss: 1.1820 - val_accuracy: 0.6218 - val_auc: 0.5932\n",
      "Epoch 2/50\n",
      "21/21 [==============================] - 0s 2ms/step - loss: 0.5527 - accuracy: 0.6969 - auc: 0.8758 - val_loss: 1.0201 - val_accuracy: 0.6218 - val_auc: 0.6081\n",
      "Epoch 3/50\n",
      "21/21 [==============================] - 0s 2ms/step - loss: 0.4799 - accuracy: 0.7627 - auc: 0.9253 - val_loss: 0.9077 - val_accuracy: 0.6250 - val_auc: 0.6513\n",
      "Epoch 4/50\n",
      "21/21 [==============================] - 0s 2ms/step - loss: 0.4249 - accuracy: 0.8108 - auc: 0.9526 - val_loss: 0.7804 - val_accuracy: 0.6266 - val_auc: 0.7598\n",
      "Epoch 5/50\n",
      "21/21 [==============================] - 0s 2ms/step - loss: 0.3775 - accuracy: 0.8505 - auc: 0.9681 - val_loss: 0.7447 - val_accuracy: 0.6330 - val_auc: 0.8198\n",
      "Epoch 6/50\n",
      "21/21 [==============================] - 0s 2ms/step - loss: 0.3370 - accuracy: 0.8748 - auc: 0.9768 - val_loss: 0.7682 - val_accuracy: 0.6426 - val_auc: 0.8400\n",
      "Epoch 7/50\n",
      "21/21 [==============================] - 0s 2ms/step - loss: 0.3009 - accuracy: 0.9013 - auc: 0.9810 - val_loss: 0.8462 - val_accuracy: 0.6474 - val_auc: 0.8587\n",
      "Epoch 8/50\n",
      "21/21 [==============================] - 0s 2ms/step - loss: 0.2714 - accuracy: 0.9153 - auc: 0.9830 - val_loss: 0.9466 - val_accuracy: 0.6458 - val_auc: 0.8748\n",
      "Epoch 9/50\n",
      "21/21 [==============================] - 0s 2ms/step - loss: 0.2457 - accuracy: 0.9229 - auc: 0.9853 - val_loss: 1.0992 - val_accuracy: 0.6362 - val_auc: 0.8725\n",
      "Epoch 10/50\n",
      "21/21 [==============================] - 0s 2ms/step - loss: 0.2247 - accuracy: 0.9340 - auc: 0.9860 - val_loss: 1.0150 - val_accuracy: 0.6458 - val_auc: 0.8732\n",
      "Epoch 11/50\n",
      "21/21 [==============================] - 0s 2ms/step - loss: 0.2070 - accuracy: 0.9410 - auc: 0.9874 - val_loss: 1.0810 - val_accuracy: 0.6426 - val_auc: 0.8783\n",
      "Epoch 12/50\n",
      "21/21 [==============================] - 0s 3ms/step - loss: 0.1936 - accuracy: 0.9429 - auc: 0.9872 - val_loss: 1.0576 - val_accuracy: 0.6506 - val_auc: 0.8885\n",
      "Epoch 13/50\n",
      "21/21 [==============================] - 0s 2ms/step - loss: 0.1808 - accuracy: 0.9452 - auc: 0.9882 - val_loss: 1.0121 - val_accuracy: 0.6571 - val_auc: 0.8869\n",
      "Epoch 14/50\n",
      "21/21 [==============================] - 0s 2ms/step - loss: 0.1689 - accuracy: 0.9505 - auc: 0.9886 - val_loss: 1.0895 - val_accuracy: 0.6522 - val_auc: 0.8808\n",
      "Epoch 15/50\n",
      "21/21 [==============================] - 0s 2ms/step - loss: 0.1599 - accuracy: 0.9530 - auc: 0.9890 - val_loss: 1.0176 - val_accuracy: 0.6619 - val_auc: 0.8830\n",
      "Epoch 16/50\n",
      "21/21 [==============================] - 0s 2ms/step - loss: 0.1536 - accuracy: 0.9546 - auc: 0.9887 - val_loss: 0.9602 - val_accuracy: 0.6747 - val_auc: 0.8845\n",
      "Epoch 17/50\n",
      "21/21 [==============================] - 0s 2ms/step - loss: 0.1437 - accuracy: 0.9542 - auc: 0.9898 - val_loss: 0.9812 - val_accuracy: 0.6811 - val_auc: 0.8777\n",
      "Epoch 18/50\n",
      "21/21 [==============================] - 0s 2ms/step - loss: 0.1368 - accuracy: 0.9584 - auc: 0.9908 - val_loss: 0.9793 - val_accuracy: 0.6795 - val_auc: 0.8893\n",
      "Epoch 19/50\n",
      "21/21 [==============================] - 0s 2ms/step - loss: 0.1319 - accuracy: 0.9605 - auc: 0.9906 - val_loss: 0.9296 - val_accuracy: 0.6875 - val_auc: 0.8873\n",
      "Epoch 20/50\n",
      "21/21 [==============================] - 0s 2ms/step - loss: 0.1250 - accuracy: 0.9618 - auc: 0.9913 - val_loss: 0.9946 - val_accuracy: 0.6827 - val_auc: 0.8781\n",
      "Epoch 21/50\n",
      "21/21 [==============================] - 0s 2ms/step - loss: 0.1204 - accuracy: 0.9641 - auc: 0.9913 - val_loss: 0.8805 - val_accuracy: 0.7083 - val_auc: 0.8827\n",
      "Epoch 22/50\n",
      "21/21 [==============================] - 0s 2ms/step - loss: 0.1167 - accuracy: 0.9630 - auc: 0.9916 - val_loss: 0.9165 - val_accuracy: 0.7003 - val_auc: 0.8862\n",
      "Epoch 23/50\n",
      "21/21 [==============================] - 0s 2ms/step - loss: 0.1113 - accuracy: 0.9641 - auc: 0.9923 - val_loss: 0.8551 - val_accuracy: 0.7099 - val_auc: 0.8830\n",
      "Epoch 24/50\n",
      "21/21 [==============================] - 0s 2ms/step - loss: 0.1097 - accuracy: 0.9634 - auc: 0.9923 - val_loss: 0.8736 - val_accuracy: 0.7099 - val_auc: 0.8869\n",
      "Epoch 25/50\n",
      "21/21 [==============================] - 0s 2ms/step - loss: 0.1064 - accuracy: 0.9663 - auc: 0.9924 - val_loss: 1.0101 - val_accuracy: 0.7035 - val_auc: 0.8459\n",
      "Epoch 26/50\n",
      "21/21 [==============================] - 0s 2ms/step - loss: 0.1022 - accuracy: 0.9670 - auc: 0.9928 - val_loss: 0.9185 - val_accuracy: 0.7099 - val_auc: 0.8730\n",
      "Epoch 27/50\n",
      "21/21 [==============================] - 0s 2ms/step - loss: 0.1005 - accuracy: 0.9661 - auc: 0.9931 - val_loss: 0.8418 - val_accuracy: 0.7228 - val_auc: 0.8805\n",
      "Epoch 28/50\n",
      "21/21 [==============================] - 0s 2ms/step - loss: 0.1006 - accuracy: 0.9655 - auc: 0.9928 - val_loss: 0.9031 - val_accuracy: 0.7196 - val_auc: 0.8804\n",
      "Epoch 29/50\n",
      "21/21 [==============================] - 0s 2ms/step - loss: 0.0962 - accuracy: 0.9676 - auc: 0.9933 - val_loss: 0.9276 - val_accuracy: 0.7163 - val_auc: 0.8762\n",
      "Epoch 30/50\n",
      "21/21 [==============================] - 0s 2ms/step - loss: 0.0951 - accuracy: 0.9674 - auc: 0.9933 - val_loss: 0.8467 - val_accuracy: 0.7228 - val_auc: 0.8767\n",
      "Epoch 31/50\n",
      "21/21 [==============================] - 0s 2ms/step - loss: 0.0943 - accuracy: 0.9668 - auc: 0.9936 - val_loss: 0.8418 - val_accuracy: 0.7308 - val_auc: 0.8851\n",
      "Epoch 32/50\n",
      "21/21 [==============================] - 0s 2ms/step - loss: 0.0914 - accuracy: 0.9678 - auc: 0.9937 - val_loss: 1.0407 - val_accuracy: 0.7147 - val_auc: 0.8600\n",
      "Epoch 33/50\n",
      "21/21 [==============================] - 0s 2ms/step - loss: 0.0899 - accuracy: 0.9711 - auc: 0.9939 - val_loss: 0.9517 - val_accuracy: 0.7228 - val_auc: 0.8716\n",
      "Epoch 34/50\n",
      "21/21 [==============================] - 0s 2ms/step - loss: 0.0900 - accuracy: 0.9684 - auc: 0.9937 - val_loss: 0.9631 - val_accuracy: 0.7260 - val_auc: 0.8623\n",
      "Epoch 35/50\n",
      "21/21 [==============================] - 0s 2ms/step - loss: 0.0902 - accuracy: 0.9691 - auc: 0.9935 - val_loss: 1.0040 - val_accuracy: 0.7260 - val_auc: 0.8583\n",
      "Epoch 36/50\n",
      "21/21 [==============================] - 0s 2ms/step - loss: 0.0898 - accuracy: 0.9678 - auc: 0.9936 - val_loss: 0.9559 - val_accuracy: 0.7228 - val_auc: 0.8668\n",
      "Epoch 37/50\n",
      "21/21 [==============================] - 0s 2ms/step - loss: 0.0862 - accuracy: 0.9693 - auc: 0.9942 - val_loss: 0.9276 - val_accuracy: 0.7260 - val_auc: 0.8770\n",
      "Epoch 38/50\n",
      "21/21 [==============================] - 0s 2ms/step - loss: 0.0854 - accuracy: 0.9699 - auc: 0.9943 - val_loss: 0.8114 - val_accuracy: 0.7452 - val_auc: 0.8766\n",
      "Epoch 39/50\n",
      "21/21 [==============================] - 0s 2ms/step - loss: 0.0852 - accuracy: 0.9699 - auc: 0.9942 - val_loss: 0.9192 - val_accuracy: 0.7340 - val_auc: 0.8700\n",
      "Epoch 40/50\n",
      "21/21 [==============================] - 0s 2ms/step - loss: 0.0850 - accuracy: 0.9693 - auc: 0.9942 - val_loss: 0.9527 - val_accuracy: 0.7276 - val_auc: 0.8665\n",
      "Epoch 41/50\n",
      "21/21 [==============================] - 0s 2ms/step - loss: 0.0836 - accuracy: 0.9712 - auc: 0.9945 - val_loss: 0.9119 - val_accuracy: 0.7356 - val_auc: 0.8769\n",
      "Epoch 42/50\n",
      "21/21 [==============================] - 0s 2ms/step - loss: 0.0813 - accuracy: 0.9699 - auc: 0.9948 - val_loss: 0.9433 - val_accuracy: 0.7372 - val_auc: 0.8700\n",
      "Epoch 43/50\n",
      "21/21 [==============================] - 0s 2ms/step - loss: 0.0840 - accuracy: 0.9703 - auc: 0.9944 - val_loss: 1.0771 - val_accuracy: 0.7292 - val_auc: 0.8451\n",
      "Epoch 44/50\n",
      "21/21 [==============================] - 0s 2ms/step - loss: 0.0822 - accuracy: 0.9707 - auc: 0.9947 - val_loss: 1.1348 - val_accuracy: 0.7212 - val_auc: 0.8411\n",
      "Epoch 45/50\n",
      "21/21 [==============================] - 0s 2ms/step - loss: 0.0802 - accuracy: 0.9709 - auc: 0.9949 - val_loss: 1.1459 - val_accuracy: 0.7212 - val_auc: 0.8409\n",
      "Epoch 46/50\n",
      "21/21 [==============================] - 0s 2ms/step - loss: 0.0791 - accuracy: 0.9712 - auc: 0.9949 - val_loss: 0.9476 - val_accuracy: 0.7372 - val_auc: 0.8613\n",
      "Epoch 47/50\n",
      "21/21 [==============================] - 0s 2ms/step - loss: 0.0795 - accuracy: 0.9730 - auc: 0.9945 - val_loss: 1.0591 - val_accuracy: 0.7260 - val_auc: 0.8488\n",
      "Epoch 48/50\n",
      "21/21 [==============================] - 0s 2ms/step - loss: 0.0785 - accuracy: 0.9726 - auc: 0.9946 - val_loss: 0.9107 - val_accuracy: 0.7500 - val_auc: 0.8758\n",
      "Epoch 49/50\n",
      "21/21 [==============================] - 0s 2ms/step - loss: 0.0813 - accuracy: 0.9699 - auc: 0.9943 - val_loss: 0.9293 - val_accuracy: 0.7420 - val_auc: 0.8673\n",
      "Epoch 50/50\n",
      "21/21 [==============================] - 0s 2ms/step - loss: 0.0800 - accuracy: 0.9714 - auc: 0.9947 - val_loss: 0.8154 - val_accuracy: 0.7692 - val_auc: 0.8866\n"
     ]
    }
   ],
   "source": [
    "model = tf.keras.Sequential()\n",
    "model.add(tf.keras.layers.Dense(8, activation='relu', input_shape=(q1*q2,)))\n",
    "model.add(tf.keras.layers.BatchNormalization(axis=-1, momentum=0.99, epsilon=0.001, center=True, scale=True, beta_initializer='zeros', gamma_initializer='ones', moving_mean_initializer='zeros', moving_variance_initializer='ones'));\n",
    "model.add(tf.keras.layers.Dense(4, activation='relu'))\n",
    "model.add(tf.keras.layers.BatchNormalization(axis=-1, momentum=0.99, epsilon=0.001, center=True, scale=True, beta_initializer='zeros', gamma_initializer='ones', moving_mean_initializer='zeros', moving_variance_initializer='ones'));\n",
    "model.add(tf.keras.layers.Dense(1, activation='sigmoid'))\n",
    "model.compile(loss='binary_crossentropy',optimizer='RMSprop',metrics=['accuracy', tf.keras.metrics.AUC(num_thresholds=200, curve='ROC', summation_method='interpolation')]); # or 'AUC' also works.\n",
    "history = model.fit(Xlow_vec, Y, batch_size=250, epochs=50, verbose=1, validation_data=(Xtest_low_vec, Ytest))"
   ]
  },
  {
   "cell_type": "code",
   "execution_count": 19,
   "metadata": {
    "scrolled": true
   },
   "outputs": [
    {
     "name": "stdout",
     "output_type": "stream",
     "text": [
      "Model: \"sequential_1\"\n",
      "_________________________________________________________________\n",
      "Layer (type)                 Output Shape              Param #   \n",
      "=================================================================\n",
      "dense_1 (Dense)              (None, 8)                 808       \n",
      "_________________________________________________________________\n",
      "batch_normalization_1 (Batch (None, 8)                 32        \n",
      "_________________________________________________________________\n",
      "dense_2 (Dense)              (None, 4)                 36        \n",
      "_________________________________________________________________\n",
      "batch_normalization_2 (Batch (None, 4)                 16        \n",
      "_________________________________________________________________\n",
      "dense_3 (Dense)              (None, 1)                 5         \n",
      "=================================================================\n",
      "Total params: 897\n",
      "Trainable params: 873\n",
      "Non-trainable params: 24\n",
      "_________________________________________________________________\n"
     ]
    }
   ],
   "source": [
    "model.summary()"
   ]
  },
  {
   "cell_type": "code",
   "execution_count": 20,
   "metadata": {
    "scrolled": true
   },
   "outputs": [
    {
     "data": {
      "image/png": "[encoded data removed]",
      "text/plain": [
       "<Figure size 432x288 with 1 Axes>"
      ]
     },
     "metadata": {
      "needs_background": "light"
     },
     "output_type": "display_data"
    }
   ],
   "source": [
    "# Check AUC\n",
    "import matplotlib.ticker as ticker;\n",
    "auc_training = history.history['auc'];\n",
    "auc_testing = history.history['val_auc'];\n",
    "plt.plot(auc_training, label='training auc');\n",
    "plt.plot(auc_testing, label='validation auc');\n",
    "plt.gca().get_xaxis().set_major_locator(ticker.MaxNLocator(integer=True));\n",
    "plt.legend();"
   ]
  },
  {
   "cell_type": "code",
   "execution_count": 21,
   "metadata": {},
   "outputs": [],
   "source": [
    "# draw ROC\n",
    "def plot_roc(name, labels, predictions, **kwargs):\n",
    "    fp, tp, _ = sklearn.metrics.roc_curve(labels, predictions);\n",
    "    plt.plot(100*fp, 100*tp, label=name, linewidth=2, **kwargs);\n",
    "    plt.xlabel('False positives [%]');\n",
    "    plt.ylabel('True positives [%]');\n",
    "    plt.xlim([-0.5,100.5]);\n",
    "    plt.ylim([-0.5,100.5]);\n",
    "    plt.grid(True);\n",
    "    ax = plt.gca();\n",
    "    ax.set_aspect('equal')"
   ]
  },
  {
   "cell_type": "code",
   "execution_count": 25,
   "metadata": {},
   "outputs": [
    {
     "data": {
      "image/png": "[encoded data removed]",
      "text/plain": [
       "<Figure size 432x288 with 1 Axes>"
      ]
     },
     "metadata": {
      "needs_background": "light"
     },
     "output_type": "display_data"
    }
   ],
   "source": [
    "# predict\n",
    "predictions_train = model.call(tf.Variable(Xlow_vec));\n",
    "predictions_test = model.call(tf.Variable(Xtest_low_vec));\n",
    "\n",
    "# plot\n",
    "plot_roc('train', Y, predictions_train ,color='blue');\n",
    "plot_roc('test', Ytest, predictions_test ,color='red');\n",
    "plt.legend(loc='lower right');"
   ]
  }
 ],
 "metadata": {
  "kernelspec": {
   "display_name": "Python 3",
   "language": "python",
   "name": "python3"
  },
  "language_info": {
   "codemirror_mode": {
    "name": "ipython",
    "version": 3
   },
   "file_extension": ".py",
   "mimetype": "text/x-python",
   "name": "python",
   "nbconvert_exporter": "python",
   "pygments_lexer": "ipython3",
   "version": "3.8.3"
  }
 },
 "nbformat": 4,
 "nbformat_minor": 4
}
